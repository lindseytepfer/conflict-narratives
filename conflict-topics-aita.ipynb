{
 "cells": [
  {
   "cell_type": "code",
   "execution_count": 1,
   "id": "28a24ea9",
   "metadata": {},
   "outputs": [],
   "source": [
    "import praw\n",
    "import json\n",
    "import pandas as pd\n",
    "import os\n",
    "import glob\n",
    "import numpy as np"
   ]
  },
  {
   "cell_type": "code",
   "execution_count": 2,
   "id": "13455800",
   "metadata": {},
   "outputs": [],
   "source": [
    "out_path ='/Users/f004p74/Documents/dartmouth/projects/conflictNarratives/aita-posts/'"
   ]
  },
  {
   "cell_type": "markdown",
   "id": "081f2c31",
   "metadata": {},
   "source": [
    "#### Getting started with PRAW\n",
    "Before praw can be used to scrape data, it needs us to authenticate ourselves. To do this, we need to create a read-only overall Reddit 'instance' and provide it with three pieces of information: your client_id , client_secret, and user_agent (plus your username and password)."
   ]
  },
  {
   "cell_type": "code",
   "execution_count": 3,
   "id": "3c1a014d",
   "metadata": {},
   "outputs": [
    {
     "name": "stderr",
     "output_type": "stream",
     "text": [
      "Version 7.6.0 of praw is outdated. Version 7.7.1 was released Tuesday July 11, 2023.\n"
     ]
    }
   ],
   "source": [
    "#create a (general) reddit instance\n",
    "\n",
    "reddit = praw.Reddit()"
   ]
  },
  {
   "cell_type": "markdown",
   "id": "036e2250",
   "metadata": {},
   "source": [
    "### Creating a Subreddit 'Instance'\n",
    "\n",
    "To begin, we must create a subreddit 'instance' (similar to when we created the more general Reddit 'instance') by defining which subreddit we want to scrape. "
   ]
  },
  {
   "cell_type": "code",
   "execution_count": 31,
   "id": "450531b6",
   "metadata": {},
   "outputs": [],
   "source": [
    "#scrape = reddit.subreddit('AmItheAsshole')\n",
    "#scrape = reddit.subreddit('Relationships')\n",
    "#scrape = reddit.subreddit('relationship_advice')\n",
    "#scrape = reddit.subreddit('tifu')\n",
    "scrape = reddit.subreddit('BreakUps')\n"
   ]
  },
  {
   "cell_type": "markdown",
   "id": "1b437ed5",
   "metadata": {},
   "source": [
    "### Before you Scrape\n",
    "\n",
    "1. **Be aware of limits**: Although you can set `limit=None`, the maximum is actually 1000, which is a limitation set by Reddit directly. According to PRAW, you can try to get more than 1,000 by using the search function. \n",
    "\n",
    "2. **Pick your sub-category**: For each Subreddit, different categories of posts can be selectively scraped: best, hot, new, controversial, top, and rising. Here, I am only interested in collecting two categories that we will scrape on a monthly basis: new and top.\n",
    "\n",
    "3. **Prepare for inconsistencies**: PRAW docs notes that you may see a discrepancy between what praw returns and what is actually viewable on the reddit page, because it counts deleted, removed, and spam comments.\n",
    "\n",
    "4. **Data Handling**: If you're saving your data in a as a .JSON object, be sure to cast your \"Redditor\" objects as strings (e.g., do str(comment.author) for example) because otherwise, JSON doesn't know what that object is and it'll break, losing all that precious scraped data!"
   ]
  },
  {
   "cell_type": "code",
   "execution_count": 32,
   "id": "3dc06c1c",
   "metadata": {},
   "outputs": [],
   "source": [
    "scrape_top = scrape.top(limit=1000)"
   ]
  },
  {
   "cell_type": "code",
   "execution_count": 33,
   "id": "0496276a",
   "metadata": {},
   "outputs": [],
   "source": [
    "#we ignore the AutoModerator because it's unreleated to the post's content\n",
    "skip_list = ['AutoModerator']\n",
    "\n",
    "for submission in scrape_top:\n",
    "    praw_dict = {}\n",
    "    submission_id = submission.id\n",
    "    \n",
    "    praw_dict[\"Submission\"] = {'Title': submission.title,\n",
    "                                'Sub ID': submission.id,\n",
    "                               'URL': submission.url,\n",
    "                              'Body': submission.selftext}\n",
    "    \n",
    "    with open(out_path+submission_id+'_top.json', 'w') as fp:\n",
    "        json.dump(praw_dict, fp)"
   ]
  },
  {
   "cell_type": "code",
   "execution_count": 34,
   "id": "73c30645",
   "metadata": {},
   "outputs": [],
   "source": [
    "scrape_hot = scrape.hot(limit=1000)"
   ]
  },
  {
   "cell_type": "code",
   "execution_count": 35,
   "id": "315ac9a1",
   "metadata": {},
   "outputs": [],
   "source": [
    "#we ignore the AutoModerator because it's unreleated to the post's content\n",
    "skip_list = ['AutoModerator']\n",
    "\n",
    "for submission in scrape_hot:\n",
    "    praw_dict = {}\n",
    "    submission_id = submission.id\n",
    "    \n",
    "    praw_dict[\"Submission\"] = {'Title': submission.title,\n",
    "                                'Sub ID': submission.id,\n",
    "                               'URL': submission.url,\n",
    "                              'Body': submission.selftext}\n",
    "    \n",
    "    with open(out_path+submission_id+'_hot.json', 'w') as fp:\n",
    "        json.dump(praw_dict, fp)"
   ]
  },
  {
   "cell_type": "code",
   "execution_count": 36,
   "id": "6efc6cd7",
   "metadata": {},
   "outputs": [],
   "source": [
    "scrape_controversial = scrape.controversial(limit=1000)"
   ]
  },
  {
   "cell_type": "code",
   "execution_count": 37,
   "id": "6dba46d7",
   "metadata": {},
   "outputs": [],
   "source": [
    "#we ignore the AutoModerator because it's unreleated to the post's content\n",
    "skip_list = ['AutoModerator']\n",
    "\n",
    "for submission in scrape_controversial:\n",
    "    praw_dict = {}\n",
    "    submission_id = submission.id\n",
    "    \n",
    "    praw_dict[\"Submission\"] = {'Title': submission.title,\n",
    "                                'Sub ID': submission.id,\n",
    "                               'URL': submission.url,\n",
    "                              'Body': submission.selftext}\n",
    "    \n",
    "    with open(out_path+submission_id+'_controversial.json', 'w') as fp:\n",
    "        json.dump(praw_dict, fp)"
   ]
  },
  {
   "cell_type": "markdown",
   "id": "577b3130",
   "metadata": {},
   "source": [
    "## Load Data for Topic Modeling"
   ]
  },
  {
   "cell_type": "code",
   "execution_count": 38,
   "id": "5d9b0997",
   "metadata": {},
   "outputs": [
    {
     "name": "stdout",
     "output_type": "stream",
     "text": [
      "13376 176ky5x_hot.json\n"
     ]
    }
   ],
   "source": [
    "file_list = os.listdir(out_path)\n",
    "print(len(file_list),file_list[0])"
   ]
  },
  {
   "cell_type": "code",
   "execution_count": 39,
   "id": "15ce876c",
   "metadata": {},
   "outputs": [],
   "source": [
    "data = []\n",
    "\n",
    "for file in file_list:\n",
    "    try:\n",
    "        with open(out_path+file) as f:\n",
    "            json_dict = json.load(f)\n",
    "\n",
    "        data.append(json_dict[\"Submission\"]['Body'])\n",
    "    except:\n",
    "        continue"
   ]
  },
  {
   "cell_type": "code",
   "execution_count": 42,
   "id": "125655f3",
   "metadata": {},
   "outputs": [
    {
     "name": "stdout",
     "output_type": "stream",
     "text": [
      "About four years ago I (30 M) met my friend \"Tom\" (38 M) when we both enrolled in the same grad school program.\r\n",
      "  \n",
      "\r\n",
      "  \n",
      "Tom is someone who has a lot of trouble forming close relationships to other people, and has said several times he thinks of me as one of his closest friends.\r\n",
      "  \n",
      "\r\n",
      "  \n",
      "Toward the end of our program, I had mentioned that I was thinking about getting another degree that would help me in the specialization I was going into. Tom was not going into this field, but thought the specialization would be worthwhile to pursue and asked if we should do it together. I said that that sounded like a good idea. Tom said he wouldn't want to go into another degree program for at least two years after finishing our previous program, and I thought that sounded reasonable.\r\n",
      "  \n",
      "\r\n",
      "  \n",
      "As we got closer to the end of our program Tom began saying that he was tired of school and academia in general.\r\n",
      "  \n",
      "\r\n",
      "  \n",
      "Since we both graduated I started thinking about my next degree, and I considered picking up a different degree. I mentioned this to Tom back in spring, and he was upset that I was \"changing the plan\" on him. I was a little surprised by this, but I apologized and tried to explain that I was considering things I thought would be better for my career.\r\n",
      "  \n",
      "\r\n",
      "  \n",
      "A few months later, after speaking with some of the other people in my company, I decided to go back to pursuing the degree I was originally considering getting with Tom. I also decided that I wanted the degree sooner rather than later because it would improve my career prospects significantly. I started applying for programs shortly afterward.\r\n",
      "  \n",
      "\r\n",
      "  \n",
      "I never mentioned that I changed my mind again to Tom.\r\n",
      "  \n",
      "\r\n",
      "  \n",
      "Tom and I speak pretty regularly, approximately once a week. I did not mention that the degree I was currently getting was the degree we originally talked about getting together. He became upset again when I told him.\r\n",
      "  \n",
      "\r\n",
      "  \n",
      "Recently, Tom and I had been planning on visiting a mutual friend in the Midwest later this month. While we were coordinating, Tom mentioned wanting to drive to bring his dog to a different state either before or after the visit. I said, or thought I said, that it sounded like we were going to make separate travel arrangements, because I wanted to get there and back directly.\r\n",
      "  \n",
      "\r\n",
      "  \n",
      "After our call, I booked my own flight to get that out of the way.\r\n",
      "  \n",
      "\r\n",
      "  \n",
      "Yesterday Tom texted me and said he wanted to reschedule the trip to November because of a persistent health issue he's been dealing with. I said that I'd need to see about rebooking my tickets then, which made him very upset. He thought we were going together and had been planning on it. He then said that I was horribly unreliable, that I changed plans without telling him about getting another degree, twice, and was making travel plans without him. He's dropped out of the trip at this point.\r\n",
      "  \n",
      "\r\n",
      "  \n",
      "I'm genuinely not certain if I did something wrong in this chain of events, and I'd like some outside perspective.\n",
      "\n",
      "&#x200B;\n",
      "\n",
      "TLDR: I changed my educational plans that I had been coordinating with my friend several times without consulting with him. He's now upset with me. Did I do something wrong by doing this?\n"
     ]
    }
   ],
   "source": [
    "print(data[0])"
   ]
  },
  {
   "cell_type": "markdown",
   "id": "39301555",
   "metadata": {},
   "source": [
    "## Text Processing & Analysis"
   ]
  },
  {
   "cell_type": "code",
   "execution_count": 43,
   "id": "0e375d56",
   "metadata": {},
   "outputs": [
    {
     "name": "stderr",
     "output_type": "stream",
     "text": [
      "[nltk_data] Downloading package vader_lexicon to\n",
      "[nltk_data]     /Users/f004p74/nltk_data...\n",
      "[nltk_data]   Package vader_lexicon is already up-to-date!\n",
      "[nltk_data] Downloading package punkt to /Users/f004p74/nltk_data...\n",
      "[nltk_data]   Package punkt is already up-to-date!\n",
      "[nltk_data] Downloading package stopwords to\n",
      "[nltk_data]     /Users/f004p74/nltk_data...\n",
      "[nltk_data]   Package stopwords is already up-to-date!\n"
     ]
    }
   ],
   "source": [
    "import re\n",
    "import nltk\n",
    "from nltk.sentiment.vader import SentimentIntensityAnalyzer\n",
    "from nltk.corpus import stopwords\n",
    "from nltk.stem import WordNetLemmatizer\n",
    "from nltk.tokenize import word_tokenize\n",
    "from nltk import FreqDist\n",
    "nltk.download('vader_lexicon')\n",
    "nltk.download('punkt')\n",
    "nltk.download('stopwords')\n",
    "import gensim\n",
    "from gensim.utils import simple_preprocess"
   ]
  },
  {
   "cell_type": "code",
   "execution_count": 46,
   "id": "77f50333",
   "metadata": {},
   "outputs": [],
   "source": [
    "contractions = { \"ain't\": \"am not\",\"aren't\": \"are not\",\"can't\": \"cannot\",\n",
    "\"can't've\": \"cannot have\",\"'cause\": \"because\",\"could've\": \"could have\",\"couldn't\": \"could not\",\n",
    "\"couldn't've\": \"could not have\",\"didn't\": \"did not\",\"doesn't\": \"does not\",\"don't\": \"do not\",\n",
    "\"hadn't\": \"had not\",\"hadn't've\": \"had not have\",\"hasn't\": \"has not\",\"haven't\": \"have not\",\n",
    "\"he'd\": \"he would\",\"he'd've\": \"he would have\",\"he'll\": \"he will\",\"he's\": \"he is\",\n",
    "\"how'd\": \"how did\",\"how'll\": \"how will\",\"how's\": \"how is\",\"i'd\": \"i would\",\n",
    "\"i'll\": \"i will\",\"i'm\": \"i am\",\"i've\": \"i have\",\"isn't\": \"is not\",\"it'd\": \"it would\",\n",
    "\"it'll\": \"it will\",\"it's\": \"it is\",\"let's\": \"let us\",\"ma'am\": \"madam\",\"mayn't\": \"may not\",\n",
    "\"might've\": \"might have\",\"mightn't\": \"might not\",\"must've\": \"must have\",\"mustn't\": \"must not\",\n",
    "\"needn't\": \"need not\",\"oughtn't\": \"ought not\",\"shan't\": \"shall not\",\"sha'n't\": \"shall not\",\n",
    "\"she'd\": \"she would\",\"she'll\": \"she will\",\"she's\": \"she is\",\"should've\": \"should have\",\n",
    "\"shouldn't\": \"should not\",\"that'd\": \"that would\",\"that's\": \"that is\",\"there'd\": \"there had\",\n",
    "\"there's\": \"there is\",\"they'd\": \"they would\",\"they'll\": \"they will\",\"they're\": \"they are\",\n",
    "\"they've\": \"they have\",\"wasn't\": \"was not\",\"we'd\": \"we would\",\"we'll\": \"we will\",\"we're\": \"we are\",\n",
    "\"we've\": \"we have\",\"weren't\": \"were not\",\"what'll\": \"what will\",\"what're\": \"what are\",\n",
    "\"what's\": \"what is\",\"what've\": \"what have\",\"where'd\": \"where did\",\"where's\": \"where is\",\"who'll\": \"who will\",\n",
    "\"who's\": \"who is\",\"won't\": \"will not\",\"wouldn't\": \"would not\",\"you'd\": \"you would\",\n",
    "\"you'll\": \"you will\",\"you're\": \"you are\"}\n",
    "\n",
    "stopwords_list = stopwords.words('english')\n",
    "stopwords_list.extend(['aita', 'asshole', 'reddit','subreddit','aitah','post',\n",
    "                       'poster','link','original','lurker','edit','amitheasshole','x200b','tifu',\n",
    "                      'relationships','breakup'])"
   ]
  },
  {
   "cell_type": "code",
   "execution_count": 53,
   "id": "76f8302b",
   "metadata": {},
   "outputs": [],
   "source": [
    "clean_list = []\n",
    "\n",
    "for i in data:\n",
    "    text = i.lower() # convert all text to lowercase\n",
    "    text = text.split() #separates the block of text to individual words\n",
    "    new_text = []\n",
    "    for word in text: # converts contractions to separate words\n",
    "        if word in contractions:\n",
    "            new_text.append(contractions[word])\n",
    "        else:\n",
    "            new_text.append(word)\n",
    "    \n",
    "    text = \" \".join(new_text)\n",
    "    \n",
    "    # Remove special characters and punctuation\n",
    "    text = re.sub(r'https?:\\/\\/.*[\\r\\n]*', '', text, flags=re.MULTILINE)\n",
    "    text = re.sub(r'\\\\', '', text)\n",
    "    text = re.sub(r'&#', '', text) \n",
    "\n",
    "    # Tokenize each word\n",
    "    text = nltk.WordPunctTokenizer().tokenize(text)\n",
    "\n",
    "    # Lemmatize each word\n",
    "    text = [nltk.stem.WordNetLemmatizer().lemmatize(token, pos='v') for token in text if len(token)>1]\n",
    "    \n",
    "    # Remove stop words\n",
    "    text = [x for x in text if x not in stopwords_list]\n",
    "    \n",
    "    # Convert the list back into a string.\n",
    "    text = ' '.join(map(str, text))\n",
    "    \n",
    "    clean_list.append(text)"
   ]
  },
  {
   "cell_type": "markdown",
   "id": "1a6a1757",
   "metadata": {},
   "source": [
    "### Removing Named Entities"
   ]
  },
  {
   "cell_type": "code",
   "execution_count": 54,
   "id": "a2f23815",
   "metadata": {},
   "outputs": [],
   "source": [
    "import spacy\n",
    "from spacy import displacy\n",
    "from spacy import tokenizer\n",
    "nlp = spacy.load('en_core_web_sm')"
   ]
  },
  {
   "cell_type": "markdown",
   "id": "bad40f0c",
   "metadata": {},
   "source": [
    "Spacy doesn't seem to be doing a great job of taking out all the common English names. As I sift through the data, I am picking out some names that I notice to exclude from the dataset (see ents_list)"
   ]
  },
  {
   "cell_type": "code",
   "execution_count": 82,
   "id": "c7261ba7",
   "metadata": {},
   "outputs": [],
   "source": [
    "ents_removed = []\n",
    "\n",
    "for i in clean_list:\n",
    "    doc = nlp(i)\n",
    "    ents = doc.ents\n",
    "    ents_list = ['adam','leo','connor','kate','nia','stella','derek', 'leah',\n",
    "                 'julie','jason','lisa','leah','jake','jess','ashley','jeremy',\n",
    "                 'emma','samantha','ann','tony','amy','annie','kayla','xander','ann',\n",
    "                 'anna','josh','jon','liam','jane','dave','jack','mia','megan','ted','elle',\n",
    "                 'alexis','hayley','anne','katie','john','lacey','matt','sara',\n",
    "                 'melissa','ellie','olivia','fred','pete','becca','britney','ella',\n",
    "                'brittney','daniella','kylie','amber','zane','zoey','mary','kat',\n",
    "                 'felix','rachel','alexandra','sofia','vanessa','mara','debra']\n",
    "\n",
    "    for e in ents:\n",
    "        if e.label_ == \"PERSON\":\n",
    "            ents_list.append(str(e))\n",
    "        else:\n",
    "            ents_list.append(str(e))\n",
    "\n",
    "    sep_words = i.split()\n",
    "    ent_filter = []\n",
    "    \n",
    "    for word in sep_words:\n",
    "        if word not in ents_list:\n",
    "            ent_filter.append(word)\n",
    "        else:\n",
    "            continue\n",
    "    \n",
    "    ent_filter = ' '.join(map(str, ent_filter))\n",
    "    ents_removed.append(ent_filter)"
   ]
  },
  {
   "cell_type": "code",
   "execution_count": 83,
   "id": "dfb876b7",
   "metadata": {},
   "outputs": [
    {
     "name": "stdout",
     "output_type": "stream",
     "text": [
      "2077416\n"
     ]
    }
   ],
   "source": [
    "all_words = []\n",
    "\n",
    "for i in ents_removed:\n",
    "    word_list = i.split()\n",
    "    for word in word_list:\n",
    "        all_words.append(word)\n",
    "\n",
    "print(len(all_words))"
   ]
  },
  {
   "cell_type": "markdown",
   "id": "fb9f8cec",
   "metadata": {},
   "source": [
    "### Saving lists of posts as csv"
   ]
  },
  {
   "cell_type": "code",
   "execution_count": 84,
   "id": "45fe8b4e",
   "metadata": {},
   "outputs": [],
   "source": [
    "df = pd.DataFrame(ents_removed)\n",
    "df.to_csv(\"/Users/f004p74/Documents/dartmouth/projects/conflictNarratives/aita-posts/text_dataset.csv\")"
   ]
  },
  {
   "cell_type": "markdown",
   "id": "d0d49a46",
   "metadata": {},
   "source": [
    "# Modeling"
   ]
  },
  {
   "cell_type": "code",
   "execution_count": 112,
   "id": "ff38619d",
   "metadata": {},
   "outputs": [],
   "source": [
    "import gensim.corpora as corpora\n",
    "from gensim.models.coherencemodel import CoherenceModel"
   ]
  },
  {
   "cell_type": "markdown",
   "id": "2c7a59bd",
   "metadata": {
    "scrolled": true
   },
   "source": [
    "## Reading in the data for modeling"
   ]
  },
  {
   "cell_type": "code",
   "execution_count": 113,
   "id": "86a3a40b",
   "metadata": {},
   "outputs": [],
   "source": [
    "df = pd.read_csv('/Users/f004p74/Documents/dartmouth/projects/conflictNarratives/aita-posts/text_dataset.csv')\n",
    "text = pd.Series(df['0'])\n",
    "\n",
    "ents_removed = []\n",
    "\n",
    "for i in text:\n",
    "    ents_removed.append(str(i))\n",
    "    \n",
    "all_words = []\n",
    "\n",
    "for e in ents_removed:\n",
    "    word_list = str(e).split()\n",
    "    for word in word_list:\n",
    "        all_words.append(word)"
   ]
  },
  {
   "cell_type": "markdown",
   "id": "4a2ee9b3",
   "metadata": {},
   "source": [
    "### 4-Fold Cross Validation"
   ]
  },
  {
   "cell_type": "code",
   "execution_count": 114,
   "id": "26c38dba",
   "metadata": {},
   "outputs": [
    {
     "data": {
      "text/plain": [
       "[0, 3343, 6686, 10029, 13372]"
      ]
     },
     "execution_count": 114,
     "metadata": {},
     "output_type": "execute_result"
    }
   ],
   "source": [
    "import random\n",
    "\n",
    "random.shuffle(ents_removed)\n",
    "\n",
    "list_length, quarter_length = len(ents_removed),int(len(ents_removed)/4)\n",
    "\n",
    "ranges = []\n",
    "\n",
    "for i in range (0,list_length,quarter_length):\n",
    "    ranges.append(i)\n",
    "\n",
    "ranges"
   ]
  },
  {
   "cell_type": "code",
   "execution_count": 117,
   "id": "fa3ff38c",
   "metadata": {},
   "outputs": [
    {
     "name": "stdout",
     "output_type": "stream",
     "text": [
      "hold-out fold: // 0 : 3343 //\n",
      "training corpus ready.\n",
      "test corpus ready. Beginning LDA modeling\n",
      "LDA Model complete. Starting coherence model... \n",
      "Topic coherence calculated:  -5.606152254800891 topic:  1 of  15\n",
      "LDA Model complete. Starting coherence model... \n",
      "Topic coherence calculated:  -5.387250222851632 topic:  2 of  15\n",
      "LDA Model complete. Starting coherence model... \n",
      "Topic coherence calculated:  -6.357342876057236 topic:  3 of  15\n",
      "LDA Model complete. Starting coherence model... \n",
      "Topic coherence calculated:  -8.049632860704117 topic:  4 of  15\n",
      "LDA Model complete. Starting coherence model... \n",
      "Topic coherence calculated:  -8.439038596914326 topic:  5 of  15\n",
      "LDA Model complete. Starting coherence model... \n",
      "Topic coherence calculated:  -7.845853357541066 topic:  6 of  15\n",
      "LDA Model complete. Starting coherence model... \n",
      "Topic coherence calculated:  -8.568311470536782 topic:  7 of  15\n",
      "LDA Model complete. Starting coherence model... \n",
      "Topic coherence calculated:  -8.929819114446229 topic:  8 of  15\n",
      "LDA Model complete. Starting coherence model... \n",
      "Topic coherence calculated:  -11.012719047615402 topic:  9 of  15\n",
      "LDA Model complete. Starting coherence model... \n",
      "Topic coherence calculated:  -11.933712933648419 topic:  10 of  15\n",
      "LDA Model complete. Starting coherence model... \n",
      "Topic coherence calculated:  -11.43015803331262 topic:  11 of  15\n",
      "LDA Model complete. Starting coherence model... \n",
      "Topic coherence calculated:  -11.318208326232229 topic:  12 of  15\n",
      "LDA Model complete. Starting coherence model... \n",
      "Topic coherence calculated:  -11.771411395802403 topic:  13 of  15\n",
      "LDA Model complete. Starting coherence model... \n",
      "Topic coherence calculated:  -12.446313706310141 topic:  14 of  15\n",
      "hold-out fold: // 3343 : 6686 //\n",
      "training corpus ready.\n",
      "test corpus ready. Beginning LDA modeling\n",
      "LDA Model complete. Starting coherence model... \n",
      "Topic coherence calculated:  -4.256173130482604 topic:  1 of  15\n",
      "LDA Model complete. Starting coherence model... \n",
      "Topic coherence calculated:  -4.563746626802804 topic:  2 of  15\n",
      "LDA Model complete. Starting coherence model... \n",
      "Topic coherence calculated:  -5.746634875039845 topic:  3 of  15\n",
      "LDA Model complete. Starting coherence model... \n",
      "Topic coherence calculated:  -5.652321382952557 topic:  4 of  15\n",
      "LDA Model complete. Starting coherence model... \n",
      "Topic coherence calculated:  -6.270203783133772 topic:  5 of  15\n",
      "LDA Model complete. Starting coherence model... \n",
      "Topic coherence calculated:  -7.493021954068571 topic:  6 of  15\n",
      "LDA Model complete. Starting coherence model... \n",
      "Topic coherence calculated:  -7.280304691380875 topic:  7 of  15\n",
      "LDA Model complete. Starting coherence model... \n",
      "Topic coherence calculated:  -8.509514346924991 topic:  8 of  15\n",
      "LDA Model complete. Starting coherence model... \n",
      "Topic coherence calculated:  -9.455421044841112 topic:  9 of  15\n",
      "LDA Model complete. Starting coherence model... \n",
      "Topic coherence calculated:  -9.91349486426932 topic:  10 of  15\n",
      "LDA Model complete. Starting coherence model... \n",
      "Topic coherence calculated:  -9.441485035747094 topic:  11 of  15\n",
      "LDA Model complete. Starting coherence model... \n",
      "Topic coherence calculated:  -10.575264025052661 topic:  12 of  15\n",
      "LDA Model complete. Starting coherence model... \n",
      "Topic coherence calculated:  -10.17979017209681 topic:  13 of  15\n",
      "LDA Model complete. Starting coherence model... \n",
      "Topic coherence calculated:  -10.54919759389641 topic:  14 of  15\n",
      "hold-out fold: // 6686 : 10029 //\n",
      "training corpus ready.\n",
      "test corpus ready. Beginning LDA modeling\n",
      "LDA Model complete. Starting coherence model... \n",
      "Topic coherence calculated:  -5.267290009234431 topic:  1 of  15\n",
      "LDA Model complete. Starting coherence model... \n",
      "Topic coherence calculated:  -5.931235620942102 topic:  2 of  15\n",
      "LDA Model complete. Starting coherence model... \n",
      "Topic coherence calculated:  -6.088726123548519 topic:  3 of  15\n",
      "LDA Model complete. Starting coherence model... \n",
      "Topic coherence calculated:  -7.198504029107621 topic:  4 of  15\n",
      "LDA Model complete. Starting coherence model... \n",
      "Topic coherence calculated:  -9.435742590047692 topic:  5 of  15\n",
      "LDA Model complete. Starting coherence model... \n",
      "Topic coherence calculated:  -7.6662592322103835 topic:  6 of  15\n",
      "LDA Model complete. Starting coherence model... \n",
      "Topic coherence calculated:  -8.368265075647612 topic:  7 of  15\n",
      "LDA Model complete. Starting coherence model... \n",
      "Topic coherence calculated:  -8.724142053462646 topic:  8 of  15\n",
      "LDA Model complete. Starting coherence model... \n",
      "Topic coherence calculated:  -10.544094064759527 topic:  9 of  15\n",
      "LDA Model complete. Starting coherence model... \n",
      "Topic coherence calculated:  -11.62602183852472 topic:  10 of  15\n",
      "LDA Model complete. Starting coherence model... \n",
      "Topic coherence calculated:  -12.891277763207173 topic:  11 of  15\n",
      "LDA Model complete. Starting coherence model... \n",
      "Topic coherence calculated:  -12.364242433412336 topic:  12 of  15\n",
      "LDA Model complete. Starting coherence model... \n",
      "Topic coherence calculated:  -12.058528861501632 topic:  13 of  15\n",
      "LDA Model complete. Starting coherence model... \n",
      "Topic coherence calculated:  -11.443521396463154 topic:  14 of  15\n",
      "hold-out fold: // 10029 : 13372 //\n",
      "training corpus ready.\n",
      "test corpus ready. Beginning LDA modeling\n",
      "LDA Model complete. Starting coherence model... \n",
      "Topic coherence calculated:  -5.315923454319275 topic:  1 of  15\n",
      "LDA Model complete. Starting coherence model... \n",
      "Topic coherence calculated:  -4.597831556800408 topic:  2 of  15\n",
      "LDA Model complete. Starting coherence model... \n",
      "Topic coherence calculated:  -4.521577826897933 topic:  3 of  15\n",
      "LDA Model complete. Starting coherence model... \n",
      "Topic coherence calculated:  -6.081631475982995 topic:  4 of  15\n",
      "LDA Model complete. Starting coherence model... \n",
      "Topic coherence calculated:  -7.864157056949286 topic:  5 of  15\n",
      "LDA Model complete. Starting coherence model... \n",
      "Topic coherence calculated:  -8.206251364162037 topic:  6 of  15\n",
      "LDA Model complete. Starting coherence model... \n",
      "Topic coherence calculated:  -9.128481232110355 topic:  7 of  15\n",
      "LDA Model complete. Starting coherence model... \n",
      "Topic coherence calculated:  -10.17683412680288 topic:  8 of  15\n",
      "LDA Model complete. Starting coherence model... \n",
      "Topic coherence calculated:  -8.821897178850822 topic:  9 of  15\n",
      "LDA Model complete. Starting coherence model... \n",
      "Topic coherence calculated:  -10.83232140976991 topic:  10 of  15\n",
      "LDA Model complete. Starting coherence model... \n",
      "Topic coherence calculated:  -10.67291440934647 topic:  11 of  15\n",
      "LDA Model complete. Starting coherence model... \n",
      "Topic coherence calculated:  -10.745928272922535 topic:  12 of  15\n",
      "LDA Model complete. Starting coherence model... \n",
      "Topic coherence calculated:  -10.550521247381779 topic:  13 of  15\n",
      "LDA Model complete. Starting coherence model... \n",
      "Topic coherence calculated:  -11.350900575030442 topic:  14 of  15\n"
     ]
    }
   ],
   "source": [
    "topic_path = \"/Users/f004p74/Documents/dartmouth/projects/conflictNarratives/\"\n",
    "\n",
    "for k in range(4):\n",
    "    quarter_start = ranges[k]\n",
    "    quarter_stop = ranges[k+1]\n",
    "    test = ents_removed[quarter_start:quarter_stop]\n",
    "    train = ents_removed.copy()\n",
    "    del train[quarter_start:quarter_stop]\n",
    "    print(\"hold-out fold: //\",quarter_start,\":\",quarter_stop,\"//\")\n",
    "    \n",
    "    # Create Corpus: Term Document Frequency - Training Dataset\n",
    "\n",
    "    train_dataset = [str(d).split() for d in train]\n",
    "    train_dictionary = gensim.corpora.Dictionary(train_dataset)\n",
    "\n",
    "    train_corpus = []\n",
    "    for text in train_dataset:\n",
    "        new_text = train_dictionary.doc2bow(text)\n",
    "        train_corpus.append(new_text)\n",
    "    \n",
    "    print(\"training corpus ready.\")\n",
    "    # Create Corpus: Term Document Frequency - Testing Dataset\n",
    "    test_dataset = [str(d).split() for d in test]\n",
    "    test_dictionary = gensim.corpora.Dictionary(test_dataset)\n",
    "\n",
    "    test_corpus = []\n",
    "    for text in test_dataset:\n",
    "        new_text = test_dictionary.doc2bow(text)\n",
    "        test_corpus.append(new_text)\n",
    "        \n",
    "    print(\"test corpus ready. Beginning LDA modeling\")\n",
    "    \n",
    "    topics_num= 15\n",
    "    \n",
    "    for i in range(1,topics_num+1):\n",
    "        lda_model = gensim.models.ldamodel.LdaModel(corpus=train_corpus,\n",
    "                                           id2word=train_dictionary,\n",
    "                                           iterations=50,\n",
    "                                           num_topics=i,\n",
    "                                           random_state=100,\n",
    "                                           eval_every=20,\n",
    "                                           update_every=1,\n",
    "                                           chunksize=500,\n",
    "                                           passes=10,\n",
    "                                           alpha='auto',\n",
    "                                           per_word_topics=True)\n",
    "    \n",
    "        print(\"LDA Model complete. Starting coherence model... \")\n",
    "        \n",
    "        coherence_model = CoherenceModel(model=lda_model,\n",
    "                                     corpus=test_corpus, #texts only needed for sliding window measures\n",
    "                                     dictionary=test_dictionary,\n",
    "                                     coherence='u_mass') \n",
    "\n",
    "        coherence = coherence_model.get_coherence()\n",
    "        \n",
    "        print(\"Topic coherence calculated: \",coherence,\"topic: \",i, \"of \", topics_num)\n",
    "\n",
    "        coherence_out = open(topic_path+\"fold_\"+str(k)+\"_coherence_score_\"+str(i)+\"_topics.txt\", \"w\")\n",
    "        coherence_out.write(str(coherence))\n",
    "        coherence_out.close()"
   ]
  },
  {
   "cell_type": "code",
   "execution_count": 121,
   "id": "e53b10bd",
   "metadata": {},
   "outputs": [
    {
     "data": {
      "text/html": [
       "<div>\n",
       "<style scoped>\n",
       "    .dataframe tbody tr th:only-of-type {\n",
       "        vertical-align: middle;\n",
       "    }\n",
       "\n",
       "    .dataframe tbody tr th {\n",
       "        vertical-align: top;\n",
       "    }\n",
       "\n",
       "    .dataframe thead th {\n",
       "        text-align: right;\n",
       "    }\n",
       "</style>\n",
       "<table border=\"1\" class=\"dataframe\">\n",
       "  <thead>\n",
       "    <tr style=\"text-align: right;\">\n",
       "      <th></th>\n",
       "      <th>fold</th>\n",
       "      <th>topics</th>\n",
       "      <th>coherence</th>\n",
       "    </tr>\n",
       "  </thead>\n",
       "  <tbody>\n",
       "    <tr>\n",
       "      <th>0</th>\n",
       "      <td>0</td>\n",
       "      <td>1</td>\n",
       "      <td>-5.606152</td>\n",
       "    </tr>\n",
       "    <tr>\n",
       "      <th>1</th>\n",
       "      <td>0</td>\n",
       "      <td>2</td>\n",
       "      <td>-5.387250</td>\n",
       "    </tr>\n",
       "    <tr>\n",
       "      <th>2</th>\n",
       "      <td>0</td>\n",
       "      <td>3</td>\n",
       "      <td>-6.357343</td>\n",
       "    </tr>\n",
       "    <tr>\n",
       "      <th>3</th>\n",
       "      <td>0</td>\n",
       "      <td>4</td>\n",
       "      <td>-8.049633</td>\n",
       "    </tr>\n",
       "    <tr>\n",
       "      <th>4</th>\n",
       "      <td>0</td>\n",
       "      <td>5</td>\n",
       "      <td>-8.439039</td>\n",
       "    </tr>\n",
       "  </tbody>\n",
       "</table>\n",
       "</div>"
      ],
      "text/plain": [
       "   fold  topics  coherence\n",
       "0     0       1  -5.606152\n",
       "1     0       2  -5.387250\n",
       "2     0       3  -6.357343\n",
       "3     0       4  -8.049633\n",
       "4     0       5  -8.439039"
      ]
     },
     "execution_count": 121,
     "metadata": {},
     "output_type": "execute_result"
    }
   ],
   "source": [
    "dfs = []\n",
    "\n",
    "for k in range(4):\n",
    "    \n",
    "    score_list = []\n",
    "    \n",
    "    for i in range(1,topics_num):\n",
    "        coherence_read = open(topic_path+\"fold_\"+str(k)+\"_coherence_score_\"+str(i)+\"_topics.txt\", \"r\")\n",
    "        score_list.append(float(coherence_read.read()))\n",
    "\n",
    "    topic_list = [int(x) for x in range(1,topics_num)]\n",
    "\n",
    "    df = pd.DataFrame({'fold':k,'topics':topic_list, 'coherence':score_list})\n",
    "    dfs.append(df)\n",
    "\n",
    "combined_df = pd.concat(dfs, axis=0)\n",
    "combined_df.head()"
   ]
  },
  {
   "cell_type": "code",
   "execution_count": 128,
   "id": "33e5633c",
   "metadata": {},
   "outputs": [
    {
     "data": {
      "text/plain": [
       "topics\n",
       "1     -5.111385\n",
       "2     -5.120016\n",
       "3     -5.678570\n",
       "4     -6.745522\n",
       "5     -8.002286\n",
       "6     -7.802846\n",
       "7     -8.336341\n",
       "8     -9.085077\n",
       "9     -9.958533\n",
       "10   -11.076388\n",
       "11   -11.108959\n",
       "12   -11.250911\n",
       "13   -11.140063\n",
       "14   -11.447483\n",
       "Name: coherence, dtype: float64"
      ]
     },
     "execution_count": 128,
     "metadata": {},
     "output_type": "execute_result"
    }
   ],
   "source": [
    "average = combined_df.groupby('topics')['coherence'].mean()\n",
    "average"
   ]
  },
  {
   "cell_type": "code",
   "execution_count": 127,
   "id": "f347975a",
   "metadata": {},
   "outputs": [
    {
     "data": {
      "text/plain": [
       "<AxesSubplot:xlabel='topics'>"
      ]
     },
     "execution_count": 127,
     "metadata": {},
     "output_type": "execute_result"
    },
    {
     "data": {
      "image/png": "[encoded data removed]",
      "text/plain": [
       "<Figure size 432x288 with 1 Axes>"
      ]
     },
     "metadata": {
      "needs_background": "light"
     },
     "output_type": "display_data"
    }
   ],
   "source": [
    "#df.plot.line(y='coherence', x='topics')\n",
    "average.plot.line()"
   ]
  },
  {
   "cell_type": "markdown",
   "id": "1c678549",
   "metadata": {},
   "source": [
    "Local maximum appears to be around 6."
   ]
  },
  {
   "cell_type": "markdown",
   "id": "2dd845a0",
   "metadata": {},
   "source": [
    "# Investigating 6 topics"
   ]
  },
  {
   "cell_type": "code",
   "execution_count": 129,
   "id": "9293b667",
   "metadata": {},
   "outputs": [],
   "source": [
    "import pyLDAvis.gensim_models\n",
    "pyLDAvis.enable_notebook()"
   ]
  },
  {
   "cell_type": "code",
   "execution_count": 130,
   "id": "a2402bc6",
   "metadata": {},
   "outputs": [],
   "source": [
    "# Create Corpus: Term Document Frequency\n",
    "dataset = [d.split() for d in ents_removed]\n",
    "dictionary = gensim.corpora.Dictionary(dataset)\n",
    "\n",
    "corpus = []\n",
    "for text in dataset:\n",
    "    new_text = dictionary.doc2bow(text)\n",
    "    corpus.append(new_text)"
   ]
  },
  {
   "cell_type": "code",
   "execution_count": 141,
   "id": "90a218cf",
   "metadata": {},
   "outputs": [],
   "source": [
    "lda_model = gensim.models.ldamodel.LdaModel(corpus=corpus,\n",
    "                                           id2word=dictionary,\n",
    "                                           iterations=50,\n",
    "                                           num_topics=6,\n",
    "                                           random_state=100, #seed\n",
    "                                           eval_every=20,\n",
    "                                           update_every=1, #update the model every chunk\n",
    "                                           chunksize=500, #how many docs to consider at once; affects memory\n",
    "                                           passes=10, #how many times the model should pass over the whole corpus\n",
    "                                           alpha='auto',\n",
    "                                           per_word_topics=False)"
   ]
  },
  {
   "cell_type": "code",
   "execution_count": 142,
   "id": "d7848d58",
   "metadata": {},
   "outputs": [
    {
     "data": {
      "text/html": [
       "\n",
       "<link rel=\"stylesheet\" type=\"text/css\" href=\"https://cdn.jsdelivr.net/gh/bmabey/pyLDAvis@3.4.0/pyLDAvis/js/ldavis.v1.0.0.css\">\n",
       "\n",
       "\n",
       "<div id=\"ldavis_el367563073889926358751982\" style=\"background-color:white;\"></div>\n",
       "<script type=\"text/javascript\">\n",
       "\n",
       "var ldavis_el367563073889926358751982_data = {\"mdsDat\": {\"x\": [0.1215700497194759, 0.17960126994586298, 0.03011215625020334, 0.02682895063120356, -0.06444602314367541, -0.29366640340307026], \"y\": [0.026620658282471787, 0.009582054295085036, 0.21046750917604126, -0.13077252017630792, -0.18245160418450912, 0.06655390260721883], \"topics\": [1, 2, 3, 4, 5, 6], \"cluster\": [1, 1, 1, 1, 1, 1], \"Freq\": [34.83939584213237, 27.58631177747625, 17.156000421961544, 10.145982315733646, 6.438934619260649, 3.833375023435528]}, \"tinfo\": {\"Term\": [\"say\", \"tell\", \"work\", \"feel\", \"love\", \"family\", \"mom\", \"wife\", \"pay\", \"parent\", \"relationship\", \"sister\", \"ask\", \"husband\", \"money\", \"get\", \"dad\", \"kid\", \"job\", \"home\", \"take\", \"eat\", \"house\", \"want\", \"live\", \"call\", \"daughter\", \"brother\", \"son\", \"make\", \"text\", \"im\", \"dont\", \"didnt\", \"texts\", \"idk\", \"club\", \"cant\", \"gf\", \"texting\", \"shes\", \"ive\", \"texted\", \"concert\", \"wasnt\", \"medication\", \"doesnt\", \"wont\", \"cuddle\", \"snapchat\", \"suspicious\", \"goodbye\", \"misunderstand\", \"tho\", \"threesome\", \"sob\", \"stone\", \"hes\", \"everytime\", \"flirty\", \"hang\", \"friend\", \"bc\", \"hug\", \"wanna\", \"bf\", \"sleep\", \"message\", \"boyfriend\", \"reply\", \"talk\", \"respond\", \"say\", \"girl\", \"kiss\", \"tire\", \"tell\", \"ask\", \"friends\", \"go\", \"call\", \"night\", \"girlfriend\", \"sorry\", \"guy\", \"drink\", \"get\", \"leave\", \"start\", \"really\", \"day\", \"like\", \"later\", \"phone\", \"back\", \"anything\", \"time\", \"know\", \"would\", \"come\", \"want\", \"think\", \"try\", \"since\", \"even\", \"make\", \"could\", \"work\", \"see\", \"home\", \"still\", \"feel\", \"truly\", \"emotional\", \"heal\", \"thoughts\", \"attract\", \"emotionally\", \"therapist\", \"emotions\", \"connection\", \"improve\", \"---\", \"commit\", \"seek\", \"memories\", \"hobbies\", \"happiness\", \"deeply\", \"closure\", \"confidence\", \"desire\", \"grieve\", \"casual\", \"nc\", \"commitment\", \"esteem\", \"intimacy\", \"flaw\", \"happier\", \"attraction\", \"blindside\", \"ex\", \"relationship\", \"love\", \"partner\", \"depression\", \"reality\", \"future\", \"therapy\", \"life\", \"self\", \"deserve\", \"attractive\", \"person\", \".**\", \"cheat\", \"**\", \"media\", \"someone\", \"feel\", \"better\", \"women\", \"sexual\", \"sex\", \"focus\", \"become\", \"break\", \"hurt\", \"experience\", \"hope\", \"social\", \"advice\", \"happy\", \"things\", \"people\", \"never\", \"want\", \"together\", \"much\", \"know\", \"make\", \"many\", \"time\", \"think\", \"like\", \"find\", \"ever\", \"would\", \"always\", \"even\", \"good\", \"need\", \"really\", \"still\", \"give\", \"get\", \"try\", \"dick\", \"toilet\", \"ball\", \"naked\", \"pant\", \"pee\", \"penis\", \"song\", \"butt\", \"horny\", \"chair\", \"legs\", \"nose\", \"crack\", \"towel\", \"obligatory\", \"leg\", \"wet\", \"holy\", \"fart\", \"cum\", \"bean\", \"boob\", \"speed\", \"og\", \"underwear\", \"inch\", \"embarrassment\", \"coconut\", \"throat\", \"window\", \"screen\", \"finger\", \"shirt\", \"seat\", \"ass\", \"mouth\", \"feet\", \"blood\", \"hot\", \"grab\", \"water\", \"star\", \"bathroom\", \"fuck\", \"shower\", \"laugh\", \"light\", \"pull\", \"door\", \"face\", \"hand\", \"wear\", \"...\", \"eye\", \"look\", \"dr\", \"tl\", \"oh\", \"run\", \"sit\", \"shit\", \"turn\", \"walk\", \"open\", \"head\", \"happen\", \"get\", \"front\", \"go\", \"use\", \"back\", \"little\", \"start\", \"think\", \"take\", \"like\", \"around\", \"decide\", \"come\", \"try\", \"see\", \"could\", \"time\", \"sister\", \"brother\", \"wed\", \"cousin\", \"nan\", \"aunt\", \"fianc\\u00e9\", \"mum\", \"brothers\", \"uncle\", \"sisters\", \"niece\", \"son\", \"church\", \"cousins\", \"twin\", \"bully\", \"dad\", \"sons\", \"moms\", \"fiancee\", \"funeral\", \"ceremony\", \"nephew\", \"venue\", \"bio\", \"bride\", \"proposal\", \"biological\", \"trans\", \"mom\", \"father\", \"daughter\", \"pregnant\", \"pregnancy\", \"mother\", \"husband\", \"siblings\", \"baby\", \"daughters\", \"grandparents\", \"parent\", \"kid\", \"family\", \"children\", \"wife\", \"child\", \"younger\", \"marry\", \"name\", \"birth\", \"older\", \"birthday\", \"tell\", \"say\", \"old\", \"invite\", \"us\", \"ask\", \"would\", \"call\", \"get\", \"want\", \"come\", \"go\", \"since\", \"money\", \"rent\", \"afford\", \"financially\", \"financial\", \"lawyer\", \"hire\", \"bill\", \"dollars\", \"bank\", \"debt\", \"finance\", \"income\", \"000\", \"loan\", \"fund\", \"fence\", \"district\", \"tax\", \"dan\", \"landlord\", \"mortgage\", \"military\", \"engineer\", \"foster\", \"salary\", \"pay\", \"budget\", \"childcare\", \"paycheck\", \"cost\", \"expense\", \"job\", \"earn\", \"sell\", \"puppy\", \"company\", \"graduate\", \"email\", \"](\", \"file\", \"ticket\", \"expensive\", \"buy\", \"dog\", \"save\", \"work\", \"college\", \"live\", \"card\", \"school\", \"move\", \"spend\", \"take\", \"help\", \"house\", \"car\", \"get\", \"offer\", \"would\", \"home\", \"new\", \"need\", \"also\", \"time\", \"since\", \"want\", \"go\", \"parent\", \"give\", \"could\", \"make\", \"cat\", \"mil\", \"dish\", \"pizza\", \"meal\", \"bob\", \"fridge\", \"cook\", \"bake\", \"vegan\", \"garden\", \"fil\", \"sandwich\", \"yard\", \"allergic\", \"37m\", \"steak\", \"plate\", \"bread\", \"pepper\", \"driveway\", \"scold\", \"hubby\", \"kitten\", \"salad\", \"farm\", \"mattress\", \"taxi\", \"ross\", \"litter\", \"grocery\", \"diet\", \"food\", \"milk\", \"kitchen\", \"chicken\", \"eat\", \"sauce\", \"chocolate\", \"hungry\", \"snack\", \"restaurant\", \"clean\", \"meat\", \"counter\", \"order\", \"bag\", \"dog\", \"neighbor\", \"store\", \"house\", \"room\", \"box\", \"dinner\", \"shop\", \"wife\", \"buy\", \"home\", \"police\", \"weight\", \"take\", \"door\", \"make\", \"put\", \"bring\", \"get\", \"use\", \"leave\", \"yell\", \"say\", \"ask\", \"come\"], \"Freq\": [25650.0, 20338.0, 10760.0, 14934.0, 8741.0, 5880.0, 4425.0, 5148.0, 3385.0, 4584.0, 6861.0, 3644.0, 11434.0, 4045.0, 2805.0, 31131.0, 3326.0, 4154.0, 2963.0, 5802.0, 10643.0, 2232.0, 4197.0, 19789.0, 5399.0, 7507.0, 2545.0, 2365.0, 2381.0, 16020.0, 1668.3245813834485, 1186.5523167011756, 900.5869573905021, 577.8605412318598, 655.768905659936, 446.34921174219886, 380.3052967066597, 353.50391953050575, 1716.4048984410745, 643.8615137167802, 268.72405166281897, 258.9464248061887, 872.6423559619585, 214.90464603207047, 214.34059836891404, 190.0821028874459, 184.10265824223893, 184.34946201819437, 300.7394931070088, 177.27666800642444, 151.36191332533178, 139.32708441154693, 140.1450051468966, 138.12083701445638, 133.2157884363612, 127.90440808881971, 129.4618762440007, 122.11541302347898, 116.853444001355, 117.64087510434682, 1728.2113606406267, 5798.762451726496, 372.0266556454252, 435.8970202067128, 401.98357280958703, 987.2129967290236, 2646.961289126782, 2124.365029178776, 3097.0039394988903, 959.1464367710488, 7872.308954653335, 1020.5514185096699, 20729.520667717778, 2849.2428691569307, 831.3763769171383, 742.1416724477033, 16130.692594580461, 9023.656808218224, 5583.565235863542, 18992.943137382317, 5745.049454280549, 2095.2133164451066, 2773.5751450368502, 1470.8105937346525, 3736.577393006536, 2248.6996849831876, 17345.936940656964, 5456.838271213669, 6449.13871700628, 7063.350527684522, 4040.9953222429435, 11781.83112792758, 2463.5978622404596, 2435.1482328172006, 6471.264202478359, 3192.003481215077, 9070.677679031929, 9438.89635448456, 8745.970974947748, 5556.9251777097315, 8612.147321854112, 7167.742983259695, 5120.589418646796, 3890.080955421607, 4985.510612532917, 6321.055796018126, 4556.183212584895, 4743.379694067957, 4256.259290804799, 3564.1335951154274, 3817.7045102056704, 3809.8000466782373, 656.2591462823755, 612.4003914480633, 593.2787730487061, 556.0350562825446, 449.23803926087004, 386.5438342784917, 403.43109795461487, 347.57590040870195, 270.6551024224197, 268.9478865692616, 266.2924881199557, 263.0921487061167, 253.3150782614966, 235.24111395515038, 233.42822006423123, 221.85554061140755, 220.85630421109983, 211.7385619471306, 207.37883401986912, 201.73088180280516, 190.89374418337826, 168.7233294104384, 164.04696779188708, 163.80674796433985, 161.03571098018676, 155.59145676802098, 148.88759175433185, 147.92834750061604, 134.70029015853132, 131.75658787396938, 3909.264129541772, 6773.364390449525, 8604.832122481057, 2115.016289167793, 473.4470858235146, 301.2755057325665, 1163.6486030103745, 703.4047650496029, 5339.483130219779, 990.8105872483926, 826.4536427808561, 464.17044276516003, 3557.9883299139515, 334.1606958374467, 1439.5341509847283, 2268.9324971051296, 603.4848622907667, 3834.5875633545616, 11122.359406599606, 2601.394869794522, 935.0639040626941, 594.4479385324677, 2646.2573490923182, 568.8363472009017, 1686.93514656179, 4328.189623268429, 2293.7853554961807, 1154.5145769186734, 1081.8149608499323, 927.5748782569246, 1431.6012573992625, 2013.2142028289277, 4388.144007497891, 3864.4408915993304, 4618.527602250971, 8446.39688540008, 3357.8857140946034, 3817.745814311689, 7983.667094230214, 6138.848759042364, 1524.3380567552954, 6424.94760385466, 5933.655444946782, 6928.378955914788, 3052.007891443767, 2156.36786842736, 5392.33936724604, 2624.3265034611863, 3704.7651471827653, 2734.0728286753306, 2995.451221302397, 3425.533806505466, 2908.3346115718846, 2785.911726890331, 3417.601446815992, 2741.0025316933034, 677.9336883866256, 478.3897058674641, 440.3636100251633, 350.99397363647176, 347.22815727424353, 336.4073599169217, 306.76391385552046, 266.5530103432827, 251.5580188370579, 245.39792453817722, 236.4778405421599, 234.81125077398838, 215.22061359847964, 214.0666802072588, 208.29749054619467, 207.5917164456404, 207.96527244634834, 197.23646852001025, 190.06075263173744, 178.93236974902848, 177.43995116656563, 173.39111959753473, 164.5929118524011, 162.11383103830335, 171.93515182976236, 158.96549957019576, 158.0259339078407, 150.15029597124402, 149.67882185546802, 144.72225812805883, 351.0618325399946, 262.8619010308044, 347.55311218869747, 301.43721820051684, 450.7287566348853, 856.5423898426125, 445.7643071633359, 309.07111657529765, 389.65267217448843, 557.4667029886076, 799.8511111555385, 777.3107491284866, 432.82147680982536, 877.9111793139193, 2984.677457854897, 651.6108254229013, 1194.3249197778061, 643.981533982855, 869.4927739089311, 1165.1034232837842, 1178.2301159875126, 1235.7587776944504, 787.7406833519084, 2112.593677444972, 966.4174512310008, 3497.1492253848637, 2029.4435689636289, 1996.5708069169953, 716.4718180471291, 1176.206551033286, 1371.1525221599213, 1251.2136740997191, 1639.7166462824723, 1380.2752490283854, 1298.923173218857, 1140.1192276437457, 1970.6366696354698, 5132.726935095524, 828.0624023212752, 3613.3336291559663, 1502.1721688625337, 2143.6055698901678, 1337.409422983701, 1908.5961171628012, 2229.105796140978, 1805.83623820043, 2300.109534426978, 1321.615937627399, 1203.8510647149199, 1496.5518745020129, 1428.1017891921317, 1371.2699782436948, 1312.9310770783027, 1178.12735229019, 3643.4368361754314, 2364.3624339570274, 1673.4084708463952, 754.449433566285, 705.7846829281705, 461.5967903150425, 468.9762160047973, 454.51249648965177, 298.212119109174, 279.6374905754577, 278.9390560112128, 275.3083989934861, 2372.86117129671, 212.43507652236704, 196.3358836826668, 207.1615826106155, 189.86522064645627, 3309.8086233450167, 161.24984969031055, 155.6825125388522, 151.88324205287455, 146.72954114378678, 146.63927605469837, 141.42874066191672, 138.2464391166124, 132.04545453963078, 111.68049681540232, 112.48162862852443, 110.93628539428458, 108.34806436121718, 4371.717420196801, 1560.4535733354078, 2495.0377123074977, 956.973906483992, 363.5634299783921, 2144.5467290285587, 3777.4675458620654, 423.9950173584368, 1871.388148687118, 251.38418633015988, 222.23402386862784, 3937.9093174387203, 3583.4734245422997, 4688.84181204513, 1018.7180255768617, 3961.299941313007, 1355.3512620175864, 532.740702198427, 1568.3403489616567, 1424.882110372837, 378.2582673939745, 569.0955283009554, 795.2762044985062, 3600.2105234052, 4067.5595869189438, 1134.4915993001011, 667.0097460835785, 1419.2752922164027, 1741.076336125695, 2103.0169826642527, 1420.3846385023144, 2431.087369620441, 1772.1423520919739, 1290.837458994673, 1292.4299536187534, 1126.071210339581, 2804.8633209892, 617.5242864231539, 379.2595272700221, 294.3761783172326, 278.95489599941214, 244.25359939595953, 226.54131277418895, 473.1166657006565, 199.0516132712705, 197.80401091388836, 170.17583085164904, 166.6780050794396, 165.50470556434777, 161.912591510297, 142.18967309157475, 136.75635952895624, 126.07802079075982, 148.62682272666962, 120.63301660274533, 116.55692156128183, 115.96972660468346, 110.37544691610968, 110.7610506287878, 109.49701441425343, 110.37372564481554, 108.53541569122574, 3355.318715383763, 91.74671184141171, 87.53102247684876, 85.18495306860173, 363.7934451672065, 192.68451392585683, 2334.8925161296106, 186.90883093541905, 351.34751658108024, 175.5971500351138, 551.7195708031394, 312.8148102709011, 469.7987400386379, 413.876738602472, 205.46630070540465, 290.42906179446163, 272.90823350279373, 1032.0544538785384, 881.1556309291752, 594.6018128452565, 3033.5807412613153, 765.2436331155877, 1606.42583029571, 345.1167325758934, 1081.660339869252, 1112.3946123959615, 763.9420093206662, 1497.1492476469177, 1048.9430381947602, 902.6562876867607, 680.8403397170333, 2153.341605516415, 461.62087886889867, 1434.319636524745, 891.0776305990313, 667.4708750902979, 786.6516994969523, 775.1120475071465, 993.5883864696838, 753.1506196646666, 957.1924554400762, 955.8487734325375, 643.5969512803063, 627.1134342829348, 629.2115471621302, 640.191544536044, 989.1235592512621, 449.11758320977526, 386.43170927769944, 210.77513878265262, 206.58350658219808, 200.341787032994, 189.16939337241124, 835.4091479138929, 159.52026568287107, 128.36751432529115, 124.8827163793255, 105.57125411663971, 104.46224611132199, 102.61472479756115, 100.10172078129669, 100.7086213456772, 98.71651334274785, 96.9125692756295, 95.32830127117707, 89.93853126811156, 89.39346792029033, 84.31365371942353, 83.25905467474668, 81.97457846689173, 81.55523904601924, 81.73193138061792, 77.17037481754465, 76.13181932185515, 72.42631592944464, 69.89239502026633, 129.47790411604188, 160.88569226015403, 1346.1915305368414, 171.31140245815624, 481.6921454092873, 172.0153896782295, 1890.8664946403862, 124.449271618563, 110.95596993808782, 125.72677398315871, 161.29286455023382, 334.5748785104219, 814.908200236576, 148.03531957632285, 162.42657776624648, 537.6327920183334, 332.4319796944671, 705.6530041445175, 257.57192693660147, 347.33942284403474, 1066.4169639778474, 851.8656374499627, 272.41499186820954, 477.0403322910006, 257.17258167273286, 948.9366390902741, 501.730148597906, 783.1919029917923, 252.0624980245281, 287.8814924207556, 785.431174386404, 386.2684916695046, 815.6750262358042, 501.7942115091225, 371.16648571198647, 651.2861833224904, 424.5999985744264, 436.1617775152869, 300.6307907459666, 453.6910147812175, 402.3411601619398, 370.83938278719955], \"Total\": [25650.0, 20338.0, 10760.0, 14934.0, 8741.0, 5880.0, 4425.0, 5148.0, 3385.0, 4584.0, 6861.0, 3644.0, 11434.0, 4045.0, 2805.0, 31131.0, 3326.0, 4154.0, 2963.0, 5802.0, 10643.0, 2232.0, 4197.0, 19789.0, 5399.0, 7507.0, 2545.0, 2365.0, 2381.0, 16020.0, 1669.2206764507669, 1187.383815464309, 901.4192121855559, 578.6927225546942, 656.7229096264558, 447.1846972321395, 381.13973828433035, 354.33659359376645, 1720.4598925390883, 645.6075973766157, 269.55612779950746, 259.77950269491265, 875.8388249688178, 215.73603490898444, 215.17261910239756, 190.91792297087827, 184.9332632423452, 185.1826080914518, 302.12283752335645, 178.10636688639906, 152.2269833413875, 140.15906340771969, 140.9819612219966, 138.9536304749096, 134.04975122221828, 128.73836291495238, 130.3084675881577, 122.94560713490807, 117.68532502688271, 118.48709182872906, 1742.7033854870042, 5947.673395172921, 375.56947606354174, 441.198919863482, 409.91484125913354, 1027.2008715507548, 2867.179157573778, 2287.95145523204, 3376.2402622759705, 1009.5925475484466, 9164.212345532747, 1093.4449453045386, 25650.2972917354, 3255.968902971212, 891.830146641399, 793.4875347157358, 20338.95056096397, 11434.981638448176, 6828.007210288698, 27532.099765678297, 7507.520957762059, 2482.487226477743, 3482.0533958465394, 1713.4450011595034, 5059.739015097121, 2859.0409672228197, 31131.980481027826, 8161.876457829008, 9998.306118446812, 11190.319022619571, 5844.065462441669, 21835.599216774783, 3209.706504495658, 3195.601597286754, 11130.210097543952, 4578.077776768192, 17960.063812365068, 19177.703118033987, 18390.831394862445, 10330.70155661377, 19789.161065311488, 16472.85233042284, 9971.38625384004, 6451.382599444505, 10021.341800432734, 16020.435632934517, 9215.05488957968, 10760.715112910935, 8744.576323784098, 5802.921204028126, 7746.06011445423, 14934.325545520576, 657.0907691601317, 613.2366927143765, 594.1068961088574, 556.8653207928145, 450.0706914310591, 387.3872123617452, 404.36308413349565, 348.4047557167975, 271.48529256893045, 269.7797417109401, 267.1257268775973, 263.925258053401, 254.14786999177312, 236.0744174634229, 234.26184817539706, 222.68417174771548, 221.6871920696556, 212.5664455753204, 208.20911073166076, 202.56153468847165, 191.7243624277685, 169.55458767010916, 164.8749300709505, 164.63737328217005, 161.8664845296105, 156.420151322271, 149.71824474010955, 148.76010258230926, 135.529248384469, 132.5852599454981, 3935.4166881746455, 6861.284366588591, 8741.23310036102, 2139.9520220110207, 478.0854965910342, 304.7691269286401, 1211.3474301286194, 725.3229688227982, 5824.403448010257, 1039.4362433120284, 863.5616581460218, 479.5526098604701, 4001.733370609317, 340.77220133005005, 1561.7573715418819, 2577.1912279062262, 637.3354394757465, 4638.243084303383, 14934.325545520576, 3126.470592885322, 1035.2675450733002, 637.8698877546559, 3346.777826188261, 614.8161410197739, 2062.7454184130875, 6146.914666850932, 2989.005120780901, 1364.517166129604, 1273.5213455139294, 1081.2774411641667, 1820.8381840389907, 2769.4539008183383, 7464.115160029948, 6476.964489900064, 8865.781514249358, 19789.161065311488, 5892.309601277149, 7040.043886087229, 19177.703118033987, 16020.435632934517, 2115.1006837239966, 17960.063812365068, 16472.85233042284, 21835.599216774783, 6228.947879119696, 3599.8331321004016, 18390.831394862445, 5093.634081218183, 10021.341800432734, 5674.288667346295, 7114.624798260372, 11190.319022619571, 7746.06011445423, 7519.502954427715, 31131.980481027826, 9971.38625384004, 678.8310638123617, 479.22227553712906, 441.2001245801698, 351.82689901519706, 348.06101406127726, 337.2440574176965, 307.5954436067577, 267.38687392362, 252.39421660651553, 246.23146947355661, 237.31091692350068, 235.64439833599985, 216.0588651945264, 214.9053669971901, 209.1299909437573, 208.4253236642199, 208.82063822174536, 198.069683107941, 190.89633478603352, 179.76426339660122, 178.27106127912563, 174.23633621456338, 165.42709507604212, 162.9506172592181, 172.83026970222082, 159.7993222620132, 158.8591323820951, 150.98616938005267, 150.5167549501214, 145.5589612234752, 354.13672014294406, 265.20082404580495, 354.62702707431345, 306.99542081714054, 464.0700755367596, 902.6355517655695, 465.8144376268101, 322.56349454648347, 419.75870511119285, 621.0753659849069, 931.9077931250846, 905.040246933863, 476.86827154075826, 1065.4501777957498, 4400.632931070966, 765.448972442056, 1573.5072259006818, 769.48242141507, 1125.9254218756098, 1608.6506502435723, 1692.3360672462252, 1834.5773645729316, 1048.374135019094, 3679.7431341887545, 1404.7288601315277, 7490.721611652418, 3708.5855138201614, 3666.887275874762, 974.2036995670012, 1969.0586317227207, 2461.396419655735, 2195.438006928801, 3252.282743243507, 2552.251747121383, 2451.94277092657, 2216.575582858439, 5685.491403669579, 31131.980481027826, 1293.744111071515, 27532.099765678297, 4736.422034652302, 11130.210097543952, 3937.203331689856, 9998.306118446812, 16472.85233042284, 10643.209235622278, 21835.599216774783, 4738.731397792986, 3878.5479475466695, 10330.70155661377, 9971.38625384004, 8744.576323784098, 9215.05488957968, 17960.063812365068, 3644.270796939891, 2365.2975780515358, 1674.2366558570598, 755.281486399919, 706.6098458755712, 462.4260996292733, 469.82791905172786, 455.3436694552361, 299.04219904854966, 280.4668950806174, 279.76668198914166, 276.1362051981566, 2381.8578082568515, 213.26426209284418, 197.1646748759765, 208.04473296170016, 190.70032950902427, 3326.457582432004, 162.10938163229991, 156.51585317980388, 152.71196821628902, 147.5572092767608, 147.46686559300682, 142.255085095874, 139.08223551621796, 132.87553500614524, 112.5087759577364, 113.31772671414126, 111.76436827258972, 109.18360165078816, 4425.549577377951, 1581.1372077847348, 2545.3695269972045, 968.3227588794058, 367.63909709049716, 2224.8121030415837, 4045.495744040675, 435.5507453310461, 1989.2565858768057, 255.93487395523914, 225.41158222043973, 4584.174648904156, 4154.002306410429, 5880.205924583078, 1146.0419715413789, 5148.019223631662, 1602.6778417662028, 595.7194481120125, 2441.040756361308, 2221.7846812213907, 413.449070993652, 761.3937694507312, 1344.0234455989244, 20338.95056096397, 25650.2972917354, 2794.3192686643483, 1062.0251109783283, 6088.621701027698, 11434.981638448176, 18390.831394862445, 7507.520957762059, 31131.980481027826, 19789.161065311488, 10330.70155661377, 27532.099765678297, 6451.382599444505, 2805.6963741327386, 618.3572013148198, 380.0927246192777, 295.20973627863714, 279.788203596349, 245.0881456226251, 227.37881324038494, 474.94335476818554, 199.88658714334497, 198.63559150149723, 171.00599280185054, 167.51015194774672, 166.3373744153206, 162.7453098174512, 143.01978498315512, 137.58713277631315, 126.92074594358922, 149.6419463874853, 121.46639571459642, 117.3953499357528, 116.80827471446801, 111.20818066072445, 111.59790384271133, 110.33102187990201, 111.21489771342247, 109.37175501637527, 3385.6086338389396, 92.57945835051859, 88.36521319008847, 86.01738480094409, 373.39181010465603, 196.2022218908333, 2963.2540565892255, 198.8588415916562, 401.2002828386731, 189.56866678134173, 737.5331466499508, 380.69781144654735, 626.0500213870772, 537.5150442349031, 233.88087049662593, 363.12685061257986, 336.8553658990238, 1963.8311653740375, 1643.8647616898968, 1046.769616577112, 10760.715112910935, 1562.1528047181039, 5399.715688670776, 520.6943697722277, 3181.0681577877513, 4819.617654628645, 2812.761241107274, 10643.209235622278, 5303.86418879968, 4197.15500905326, 2392.919842839536, 31131.980481027826, 1060.3018117964025, 18390.831394862445, 5802.921204028126, 3618.0874259221214, 7114.624798260372, 7041.424420373412, 17960.063812365068, 6451.382599444505, 19789.161065311488, 27532.099765678297, 4584.174648904156, 7519.502954427715, 9215.05488957968, 16020.435632934517, 989.9612763389263, 449.95653185297607, 387.2687224885499, 211.61292140014598, 207.41948038914515, 201.18304969883798, 190.00484772827906, 839.3369651058955, 160.35804967134854, 129.20083827981765, 125.72141084087292, 106.41177744842503, 105.29751745633074, 103.4552662245154, 100.93950572437892, 101.55808764296353, 99.55371220143051, 97.74920281431235, 96.17072519728657, 90.7775478847075, 90.23319780516263, 85.16638827374737, 84.10335367172878, 82.81121288239441, 82.39139502245779, 82.5772146793888, 78.02068935687636, 76.98588808551659, 73.28491779412421, 70.73101078470373, 131.5661310158396, 164.24037722800213, 1461.8564977502542, 176.48580777782743, 515.5503373572126, 178.5222675903837, 2232.3684097178802, 130.53318871120476, 115.40193154405026, 132.65108340226973, 178.18290257020382, 434.78216595120296, 1390.561902824567, 166.60006374813386, 189.88989854887683, 950.3696913862026, 529.0849829323058, 1643.8647616898968, 386.0217638859514, 656.0203461793783, 4197.15500905326, 3271.8104080152402, 485.5062865964069, 1318.8581683650254, 456.2029612956353, 5148.019223631662, 1963.8311653740375, 5802.921204028126, 486.9082120188532, 706.539552529332, 10643.209235622278, 1608.6506502435723, 16020.435632934517, 3925.108023898249, 2494.331160897873, 31131.980481027826, 4736.422034652302, 8161.876457829008, 1050.6716434339783, 25650.2972917354, 11434.981638448176, 10330.70155661377], \"Category\": [\"Default\", \"Default\", \"Default\", \"Default\", \"Default\", \"Default\", \"Default\", \"Default\", \"Default\", \"Default\", \"Default\", \"Default\", \"Default\", \"Default\", \"Default\", \"Default\", \"Default\", \"Default\", \"Default\", \"Default\", \"Default\", \"Default\", \"Default\", \"Default\", \"Default\", \"Default\", \"Default\", \"Default\", \"Default\", \"Default\", \"Topic1\", \"Topic1\", \"Topic1\", \"Topic1\", \"Topic1\", \"Topic1\", \"Topic1\", \"Topic1\", \"Topic1\", \"Topic1\", \"Topic1\", \"Topic1\", \"Topic1\", \"Topic1\", \"Topic1\", \"Topic1\", \"Topic1\", \"Topic1\", \"Topic1\", \"Topic1\", \"Topic1\", \"Topic1\", \"Topic1\", \"Topic1\", \"Topic1\", \"Topic1\", \"Topic1\", \"Topic1\", \"Topic1\", \"Topic1\", \"Topic1\", \"Topic1\", \"Topic1\", \"Topic1\", \"Topic1\", \"Topic1\", \"Topic1\", \"Topic1\", \"Topic1\", \"Topic1\", \"Topic1\", \"Topic1\", \"Topic1\", \"Topic1\", \"Topic1\", \"Topic1\", \"Topic1\", \"Topic1\", \"Topic1\", \"Topic1\", \"Topic1\", \"Topic1\", \"Topic1\", \"Topic1\", \"Topic1\", \"Topic1\", \"Topic1\", \"Topic1\", \"Topic1\", \"Topic1\", \"Topic1\", \"Topic1\", \"Topic1\", \"Topic1\", \"Topic1\", \"Topic1\", \"Topic1\", \"Topic1\", \"Topic1\", \"Topic1\", \"Topic1\", \"Topic1\", \"Topic1\", \"Topic1\", \"Topic1\", \"Topic1\", \"Topic1\", \"Topic1\", \"Topic1\", \"Topic1\", \"Topic1\", \"Topic1\", \"Topic2\", \"Topic2\", \"Topic2\", \"Topic2\", \"Topic2\", \"Topic2\", \"Topic2\", \"Topic2\", \"Topic2\", \"Topic2\", \"Topic2\", \"Topic2\", \"Topic2\", \"Topic2\", \"Topic2\", \"Topic2\", \"Topic2\", \"Topic2\", \"Topic2\", \"Topic2\", \"Topic2\", \"Topic2\", \"Topic2\", \"Topic2\", \"Topic2\", \"Topic2\", \"Topic2\", \"Topic2\", \"Topic2\", \"Topic2\", \"Topic2\", \"Topic2\", \"Topic2\", \"Topic2\", \"Topic2\", \"Topic2\", \"Topic2\", \"Topic2\", \"Topic2\", \"Topic2\", \"Topic2\", \"Topic2\", \"Topic2\", \"Topic2\", \"Topic2\", \"Topic2\", \"Topic2\", \"Topic2\", \"Topic2\", \"Topic2\", \"Topic2\", \"Topic2\", \"Topic2\", \"Topic2\", \"Topic2\", \"Topic2\", \"Topic2\", \"Topic2\", \"Topic2\", \"Topic2\", \"Topic2\", \"Topic2\", \"Topic2\", \"Topic2\", \"Topic2\", \"Topic2\", \"Topic2\", \"Topic2\", \"Topic2\", \"Topic2\", \"Topic2\", \"Topic2\", \"Topic2\", \"Topic2\", \"Topic2\", \"Topic2\", \"Topic2\", \"Topic2\", \"Topic2\", \"Topic2\", \"Topic2\", \"Topic2\", \"Topic2\", \"Topic2\", \"Topic2\", \"Topic2\", \"Topic3\", \"Topic3\", \"Topic3\", \"Topic3\", \"Topic3\", \"Topic3\", \"Topic3\", \"Topic3\", \"Topic3\", \"Topic3\", \"Topic3\", \"Topic3\", \"Topic3\", \"Topic3\", \"Topic3\", \"Topic3\", \"Topic3\", \"Topic3\", \"Topic3\", \"Topic3\", \"Topic3\", \"Topic3\", \"Topic3\", \"Topic3\", \"Topic3\", \"Topic3\", \"Topic3\", \"Topic3\", \"Topic3\", \"Topic3\", \"Topic3\", \"Topic3\", \"Topic3\", \"Topic3\", \"Topic3\", \"Topic3\", \"Topic3\", \"Topic3\", \"Topic3\", \"Topic3\", \"Topic3\", \"Topic3\", \"Topic3\", \"Topic3\", \"Topic3\", \"Topic3\", \"Topic3\", \"Topic3\", \"Topic3\", \"Topic3\", \"Topic3\", \"Topic3\", \"Topic3\", \"Topic3\", \"Topic3\", \"Topic3\", \"Topic3\", \"Topic3\", \"Topic3\", \"Topic3\", \"Topic3\", \"Topic3\", \"Topic3\", \"Topic3\", \"Topic3\", \"Topic3\", \"Topic3\", \"Topic3\", \"Topic3\", \"Topic3\", \"Topic3\", \"Topic3\", \"Topic3\", \"Topic3\", \"Topic3\", \"Topic3\", \"Topic3\", \"Topic3\", \"Topic3\", \"Topic3\", \"Topic3\", \"Topic3\", \"Topic3\", \"Topic3\", \"Topic4\", \"Topic4\", \"Topic4\", \"Topic4\", \"Topic4\", \"Topic4\", \"Topic4\", \"Topic4\", \"Topic4\", \"Topic4\", \"Topic4\", \"Topic4\", \"Topic4\", \"Topic4\", \"Topic4\", \"Topic4\", \"Topic4\", \"Topic4\", \"Topic4\", \"Topic4\", \"Topic4\", \"Topic4\", \"Topic4\", \"Topic4\", \"Topic4\", \"Topic4\", \"Topic4\", \"Topic4\", \"Topic4\", \"Topic4\", \"Topic4\", \"Topic4\", \"Topic4\", \"Topic4\", \"Topic4\", \"Topic4\", \"Topic4\", \"Topic4\", \"Topic4\", \"Topic4\", \"Topic4\", \"Topic4\", \"Topic4\", \"Topic4\", \"Topic4\", \"Topic4\", \"Topic4\", \"Topic4\", \"Topic4\", \"Topic4\", \"Topic4\", \"Topic4\", \"Topic4\", \"Topic4\", \"Topic4\", \"Topic4\", \"Topic4\", \"Topic4\", \"Topic4\", \"Topic4\", \"Topic4\", \"Topic4\", \"Topic4\", \"Topic4\", \"Topic4\", \"Topic4\", \"Topic5\", \"Topic5\", \"Topic5\", \"Topic5\", \"Topic5\", \"Topic5\", \"Topic5\", \"Topic5\", \"Topic5\", \"Topic5\", \"Topic5\", \"Topic5\", \"Topic5\", \"Topic5\", \"Topic5\", \"Topic5\", \"Topic5\", \"Topic5\", \"Topic5\", \"Topic5\", \"Topic5\", \"Topic5\", \"Topic5\", \"Topic5\", \"Topic5\", \"Topic5\", \"Topic5\", \"Topic5\", \"Topic5\", \"Topic5\", \"Topic5\", \"Topic5\", \"Topic5\", \"Topic5\", \"Topic5\", \"Topic5\", \"Topic5\", \"Topic5\", \"Topic5\", \"Topic5\", \"Topic5\", \"Topic5\", \"Topic5\", \"Topic5\", \"Topic5\", \"Topic5\", \"Topic5\", \"Topic5\", \"Topic5\", \"Topic5\", \"Topic5\", \"Topic5\", \"Topic5\", \"Topic5\", \"Topic5\", \"Topic5\", \"Topic5\", \"Topic5\", \"Topic5\", \"Topic5\", \"Topic5\", \"Topic5\", \"Topic5\", \"Topic5\", \"Topic5\", \"Topic5\", \"Topic5\", \"Topic5\", \"Topic5\", \"Topic5\", \"Topic5\", \"Topic5\", \"Topic6\", \"Topic6\", \"Topic6\", \"Topic6\", \"Topic6\", \"Topic6\", \"Topic6\", \"Topic6\", \"Topic6\", \"Topic6\", \"Topic6\", \"Topic6\", \"Topic6\", \"Topic6\", \"Topic6\", \"Topic6\", \"Topic6\", \"Topic6\", \"Topic6\", \"Topic6\", \"Topic6\", \"Topic6\", \"Topic6\", \"Topic6\", \"Topic6\", \"Topic6\", \"Topic6\", \"Topic6\", \"Topic6\", \"Topic6\", \"Topic6\", \"Topic6\", \"Topic6\", \"Topic6\", \"Topic6\", \"Topic6\", \"Topic6\", \"Topic6\", \"Topic6\", \"Topic6\", \"Topic6\", \"Topic6\", \"Topic6\", \"Topic6\", \"Topic6\", \"Topic6\", \"Topic6\", \"Topic6\", \"Topic6\", \"Topic6\", \"Topic6\", \"Topic6\", \"Topic6\", \"Topic6\", \"Topic6\", \"Topic6\", \"Topic6\", \"Topic6\", \"Topic6\", \"Topic6\", \"Topic6\", \"Topic6\", \"Topic6\", \"Topic6\", \"Topic6\", \"Topic6\", \"Topic6\", \"Topic6\", \"Topic6\", \"Topic6\", \"Topic6\", \"Topic6\"], \"logprob\": [30.0, 29.0, 28.0, 27.0, 26.0, 25.0, 24.0, 23.0, 22.0, 21.0, 20.0, 19.0, 18.0, 17.0, 16.0, 15.0, 14.0, 13.0, 12.0, 11.0, 10.0, 9.0, 8.0, 7.0, 6.0, 5.0, 4.0, 3.0, 2.0, 1.0, -6.073, -6.4137, -6.6895, -7.1332, -7.0067, -7.3914, -7.5516, -7.6246, -6.0445, -7.0251, -7.8988, -7.9359, -6.721, -8.1223, -8.125, -8.2451, -8.277, -8.2757, -7.7863, -8.3148, -8.4729, -8.5557, -8.5499, -8.5644, -8.6006, -8.6413, -8.6291, -8.6876, -8.7316, -8.7249, -6.0377, -4.8271, -7.5736, -7.4151, -7.4961, -6.5976, -5.6114, -5.8313, -5.4543, -6.6265, -4.5214, -6.5644, -3.5532, -5.5377, -6.7695, -6.883, -3.8041, -4.3849, -4.865, -3.6407, -4.8364, -5.8451, -5.5646, -6.199, -5.2666, -5.7744, -3.7314, -4.8879, -4.7208, -4.6299, -5.1883, -4.1182, -5.6832, -5.6948, -4.7174, -5.4241, -4.3797, -4.3399, -4.4162, -4.8697, -4.4316, -4.6152, -4.9515, -5.2263, -4.9782, -4.7409, -5.0683, -5.028, -5.1364, -5.3139, -5.2451, -5.2472, -6.7726, -6.8417, -6.8734, -6.9383, -7.1516, -7.3019, -7.2591, -7.4081, -7.6583, -7.6646, -7.6745, -7.6866, -7.7245, -7.7985, -7.8062, -7.8571, -7.8616, -7.9038, -7.9246, -7.9522, -8.0074, -8.1308, -8.159, -8.1604, -8.1775, -8.2119, -8.2559, -8.2624, -8.3561, -8.3781, -4.988, -4.4384, -4.199, -5.6023, -7.0991, -7.5511, -6.1998, -6.7032, -4.6762, -6.3606, -6.542, -7.1189, -5.0822, -7.4475, -5.987, -5.532, -6.8564, -5.0073, -3.9424, -5.3953, -6.4185, -6.8715, -5.3782, -6.9155, -5.8284, -4.8862, -5.5211, -6.2077, -6.2727, -6.4265, -5.9926, -5.6516, -4.8724, -4.9995, -4.8213, -4.2176, -5.14, -5.0117, -4.274, -4.5367, -5.9298, -4.4912, -4.5707, -4.4157, -5.2356, -5.5829, -4.6664, -5.3865, -5.0417, -5.3456, -5.2543, -5.1201, -5.2838, -5.3268, -5.1224, -5.343, -6.2651, -6.6137, -6.6965, -6.9234, -6.9342, -6.9658, -7.0581, -7.1986, -7.2565, -7.2813, -7.3183, -7.3254, -7.4125, -7.4178, -7.4452, -7.4486, -7.4468, -7.4997, -7.5368, -7.5971, -7.6055, -7.6286, -7.6807, -7.6958, -7.637, -7.7154, -7.7214, -7.7725, -7.7756, -7.8093, -6.9232, -7.2125, -6.9332, -7.0756, -6.6733, -6.0312, -6.6843, -7.0506, -6.8189, -6.4607, -6.0997, -6.1283, -6.7138, -6.0066, -4.7829, -6.3047, -5.6988, -6.3165, -6.0162, -5.7236, -5.7124, -5.6647, -6.115, -5.1285, -5.9105, -4.6244, -5.1686, -5.1849, -6.2098, -5.7141, -5.5607, -5.6523, -5.3819, -5.5541, -5.6148, -5.7452, -5.198, -4.2407, -6.065, -4.5917, -5.4695, -5.1139, -5.5856, -5.23, -5.0748, -5.2854, -5.0434, -5.5975, -5.6909, -5.4732, -5.52, -5.5606, -5.6041, -5.7125, -4.0582, -4.4906, -4.8362, -5.6329, -5.6996, -6.1242, -6.1083, -6.1396, -6.5611, -6.6254, -6.6279, -6.641, -4.487, -6.9002, -6.979, -6.9254, -7.0125, -4.1542, -7.1759, -7.211, -7.2358, -7.2703, -7.2709, -7.3071, -7.3298, -7.3757, -7.5432, -7.5361, -7.5499, -7.5735, -3.876, -4.9061, -4.4368, -5.3951, -6.3629, -4.5882, -4.0221, -6.2091, -4.7244, -6.7319, -6.8551, -3.9805, -4.0748, -3.8059, -5.3326, -3.9745, -5.047, -5.9808, -4.9011, -4.997, -6.3233, -5.9148, -5.5802, -4.0701, -3.9481, -5.2249, -5.7561, -5.001, -4.7966, -4.6077, -5.0002, -4.4628, -4.7789, -5.0958, -5.0946, -5.2324, -3.865, -5.3784, -5.8659, -6.1193, -6.1731, -6.3059, -6.3812, -5.6448, -6.5106, -6.5169, -6.6673, -6.6881, -6.6951, -6.7171, -6.847, -6.8859, -6.9672, -6.8027, -7.0114, -7.0458, -7.0508, -7.1003, -7.0968, -7.1083, -7.1003, -7.1171, -3.6858, -7.2851, -7.3322, -7.3593, -5.9076, -6.5431, -4.0484, -6.5735, -5.9424, -6.636, -5.4911, -6.0585, -5.6518, -5.7786, -6.4789, -6.1328, -6.195, -4.8648, -5.0229, -5.4163, -3.7867, -5.164, -4.4224, -5.9603, -4.8179, -4.7899, -5.1657, -4.4928, -4.8486, -4.9988, -5.2808, -4.1294, -5.6694, -4.5357, -5.0117, -5.3007, -5.1364, -5.1511, -4.9028, -5.1799, -4.9401, -4.9415, -5.3371, -5.363, -5.3597, -5.3424, -4.3887, -5.1782, -5.3286, -5.9347, -5.9548, -5.9855, -6.0429, -4.5576, -6.2134, -6.4306, -6.4582, -6.6261, -6.6367, -6.6546, -6.6793, -6.6733, -6.6933, -6.7117, -6.7282, -6.7864, -6.7925, -6.851, -6.8636, -6.8791, -6.8843, -6.8821, -6.9395, -6.9531, -7.003, -7.0386, -6.422, -6.2048, -4.0805, -6.142, -5.1082, -6.1379, -3.7407, -6.4616, -6.5764, -6.4514, -6.2023, -5.4727, -4.5825, -6.2881, -6.1953, -4.9984, -5.4791, -4.7264, -5.7342, -5.4352, -4.3135, -4.5381, -5.6782, -5.1179, -5.7358, -4.4302, -5.0675, -4.6222, -5.7559, -5.623, -4.6193, -5.329, -4.5815, -5.0673, -5.3689, -4.8066, -5.2344, -5.2075, -5.5796, -5.1681, -5.2882, -5.3698], \"loglift\": [30.0, 29.0, 28.0, 27.0, 26.0, 25.0, 24.0, 23.0, 22.0, 21.0, 20.0, 19.0, 18.0, 17.0, 16.0, 15.0, 14.0, 13.0, 12.0, 11.0, 10.0, 9.0, 8.0, 7.0, 6.0, 5.0, 4.0, 3.0, 2.0, 1.0, 1.0539, 1.0537, 1.0535, 1.053, 1.053, 1.0526, 1.0522, 1.0521, 1.0521, 1.0517, 1.0513, 1.0512, 1.0508, 1.0506, 1.0505, 1.05, 1.0499, 1.0499, 1.0498, 1.0498, 1.0487, 1.0485, 1.0485, 1.0484, 1.0482, 1.0479, 1.0479, 1.0476, 1.0473, 1.0473, 1.0461, 1.0291, 1.0449, 1.0423, 1.0349, 1.0147, 0.9745, 0.9802, 0.9681, 1.0032, 0.9025, 0.9854, 0.8414, 0.921, 0.9842, 0.9875, 0.8226, 0.8176, 0.8532, 0.6831, 0.7869, 0.8848, 0.8269, 0.9017, 0.7513, 0.8143, 0.4695, 0.6518, 0.616, 0.5943, 0.6855, 0.4374, 0.7899, 0.7827, 0.5121, 0.6938, 0.3713, 0.3455, 0.3112, 0.4343, 0.2225, 0.2223, 0.388, 0.5486, 0.3562, 0.1244, 0.3501, 0.2353, 0.3344, 0.567, 0.3469, -0.3117, 1.2866, 1.2865, 1.2865, 1.2864, 1.286, 1.2857, 1.2855, 1.2855, 1.2848, 1.2848, 1.2847, 1.2847, 1.2846, 1.2843, 1.2843, 1.2841, 1.2841, 1.2839, 1.2839, 1.2837, 1.2835, 1.2829, 1.2828, 1.2828, 1.2827, 1.2825, 1.2823, 1.2822, 1.2817, 1.2816, 1.2812, 1.275, 1.2721, 1.2761, 1.2781, 1.2763, 1.2477, 1.2572, 1.2009, 1.2399, 1.2439, 1.2552, 1.1703, 1.2683, 1.2064, 1.1605, 1.2333, 1.0976, 0.9931, 1.104, 1.1861, 1.2173, 1.053, 1.2101, 1.0867, 0.937, 1.0231, 1.1207, 1.1247, 1.1345, 1.0473, 0.9689, 0.7566, 0.7714, 0.6357, 0.4365, 0.7255, 0.6759, 0.4115, 0.3286, 0.9603, 0.2599, 0.2668, 0.1399, 0.5744, 0.7754, 0.061, 0.6247, 0.2928, 0.5577, 0.4228, 0.1041, 0.3082, 0.2949, -0.9214, -0.0035, 1.7615, 1.7611, 1.7609, 1.7605, 1.7604, 1.7603, 1.7601, 1.7597, 1.7595, 1.7594, 1.7593, 1.7593, 1.7589, 1.7589, 1.7588, 1.7588, 1.7587, 1.7586, 1.7584, 1.7582, 1.7581, 1.758, 1.7578, 1.7577, 1.7576, 1.7576, 1.7576, 1.7573, 1.7572, 1.7571, 1.7541, 1.754, 1.7427, 1.7446, 1.7337, 1.7104, 1.7188, 1.7201, 1.6884, 1.6548, 1.61, 1.6107, 1.6659, 1.5692, 1.3746, 1.6018, 1.4871, 1.5848, 1.5044, 1.4402, 1.4007, 1.3677, 1.477, 1.2079, 1.3888, 1.0011, 1.1599, 1.1549, 1.4555, 1.2476, 1.1777, 1.2006, 1.078, 1.1481, 1.1275, 1.098, 0.7033, -0.0398, 1.3166, -0.2679, 0.6145, 0.1156, 0.6831, 0.1068, -0.2373, -0.0111, -0.4878, 0.4859, 0.5929, -0.1691, -0.1806, -0.0899, -0.1858, -0.9614, 2.2879, 2.2877, 2.2876, 2.287, 2.2869, 2.2863, 2.2863, 2.2863, 2.2853, 2.2851, 2.2851, 2.2851, 2.2843, 2.2842, 2.2839, 2.2838, 2.2837, 2.2831, 2.2828, 2.2828, 2.2827, 2.2825, 2.2825, 2.2823, 2.2821, 2.2818, 2.2807, 2.2807, 2.2807, 2.2804, 2.2759, 2.2749, 2.2681, 2.2763, 2.2769, 2.2513, 2.2195, 2.2612, 2.227, 2.2702, 2.2739, 2.1361, 2.1404, 2.0617, 2.1703, 2.0261, 2.1205, 2.1764, 1.8457, 1.8439, 2.1991, 1.997, 1.7634, 0.5565, 0.4466, 1.3867, 1.823, 0.8318, 0.4059, 0.1196, 0.6231, -0.2618, -0.1249, 0.2083, -0.7707, 0.5425, 2.7425, 2.7415, 2.7406, 2.74, 2.7398, 2.7394, 2.7391, 2.739, 2.7386, 2.7386, 2.7379, 2.7378, 2.7378, 2.7377, 2.737, 2.7368, 2.7361, 2.736, 2.7359, 2.7356, 2.7356, 2.7353, 2.7353, 2.7352, 2.7352, 2.7351, 2.7338, 2.7338, 2.7333, 2.7331, 2.7168, 2.7247, 2.5045, 2.6808, 2.6101, 2.6662, 2.4525, 2.5464, 2.4557, 2.4814, 2.6133, 2.5194, 2.5323, 2.0995, 2.1192, 2.1772, 1.4766, 2.0292, 1.5305, 2.3315, 1.6641, 1.2766, 1.4394, 0.7814, 1.1222, 1.206, 1.4859, 0.0716, 1.9112, 0.1916, 0.8691, 1.0526, 0.5407, 0.5362, -0.1518, 0.595, -0.2861, -0.6177, 0.7795, 0.2587, 0.0587, -0.477, 3.2606, 3.2596, 3.2593, 3.2575, 3.2574, 3.2572, 3.257, 3.2567, 3.2562, 3.255, 3.2547, 3.2535, 3.2535, 3.2533, 3.2531, 3.253, 3.253, 3.2528, 3.2526, 3.2521, 3.2521, 3.2514, 3.2513, 3.2513, 3.2512, 3.2511, 3.2505, 3.2503, 3.2496, 3.2495, 3.2454, 3.2408, 3.179, 3.2317, 3.1935, 3.2243, 3.0954, 3.2137, 3.2221, 3.2078, 3.1618, 2.9994, 2.727, 3.1433, 3.1052, 2.6917, 2.7967, 2.4157, 2.8568, 2.6255, 1.8913, 1.9158, 2.6836, 2.2445, 2.6882, 1.5704, 1.8968, 1.2587, 2.603, 2.3636, 0.655, 1.8348, 0.2838, 1.2045, 1.3563, -0.6056, 0.8495, 0.3322, 2.0101, -0.7735, -0.0857, -0.0657]}, \"token.table\": {\"Topic\": [2, 3, 4, 2, 2, 3, 1, 2, 3, 5, 6, 3, 5, 1, 2, 5, 5, 6, 1, 2, 3, 4, 5, 6, 1, 2, 4, 5, 6, 1, 2, 3, 4, 5, 6, 1, 2, 3, 4, 5, 6, 1, 2, 3, 4, 5, 6, 1, 3, 2, 2, 2, 3, 4, 2, 3, 4, 5, 6, 1, 2, 3, 4, 5, 6, 1, 3, 6, 6, 3, 5, 3, 6, 1, 5, 3, 1, 2, 3, 4, 5, 1, 2, 3, 5, 6, 1, 2, 5, 6, 4, 4, 2, 3, 4, 5, 1, 4, 2, 3, 4, 6, 3, 1, 2, 3, 6, 1, 2, 4, 6, 1, 2, 4, 1, 2, 3, 4, 5, 6, 4, 4, 5, 4, 3, 1, 3, 4, 5, 6, 1, 3, 4, 5, 6, 1, 1, 3, 5, 6, 1, 3, 4, 5, 6, 2, 6, 4, 3, 1, 2, 3, 6, 2, 4, 5, 5, 2, 4, 5, 1, 6, 4, 1, 3, 5, 6, 2, 1, 3, 1, 2, 4, 5, 1, 2, 3, 4, 5, 6, 2, 2, 1, 2, 3, 5, 1, 2, 2, 1, 5, 6, 3, 5, 1, 2, 3, 4, 5, 6, 3, 6, 4, 4, 3, 1, 2, 3, 4, 5, 5, 4, 5, 6, 4, 6, 1, 2, 3, 4, 5, 6, 5, 1, 2, 3, 4, 5, 6, 2, 1, 2, 1, 2, 4, 2, 3, 1, 2, 6, 1, 3, 4, 6, 6, 5, 1, 3, 5, 6, 5, 1, 1, 3, 6, 1, 2, 3, 4, 5, 1, 3, 6, 2, 5, 1, 2, 3, 6, 1, 2, 3, 4, 5, 3, 2, 2, 2, 5, 2, 1, 2, 3, 4, 5, 6, 1, 2, 3, 4, 5, 1, 1, 2, 2, 5, 4, 5, 6, 2, 3, 5, 1, 2, 3, 4, 1, 2, 3, 4, 1, 2, 4, 5, 6, 3, 4, 5, 1, 2, 3, 1, 3, 5, 5, 4, 4, 6, 3, 5, 5, 5, 5, 1, 2, 3, 4, 5, 6, 2, 3, 6, 2, 1, 1, 2, 1, 5, 6, 5, 6, 1, 2, 4, 1, 2, 4, 1, 3, 4, 6, 1, 2, 3, 5, 4, 2, 5, 6, 1, 2, 3, 4, 5, 6, 1, 2, 1, 2, 3, 4, 1, 2, 3, 4, 1, 2, 3, 4, 5, 6, 1, 2, 3, 4, 5, 6, 1, 2, 3, 4, 5, 6, 1, 1, 3, 6, 2, 4, 5, 4, 5, 2, 1, 6, 1, 2, 3, 1, 2, 3, 4, 5, 6, 1, 2, 4, 1, 2, 3, 4, 2, 2, 1, 2, 4, 5, 6, 1, 2, 3, 2, 1, 2, 3, 4, 5, 6, 1, 5, 2, 3, 1, 3, 4, 5, 6, 1, 2, 3, 3, 1, 2, 3, 6, 1, 3, 4, 5, 6, 6, 1, 4, 3, 6, 1, 2, 4, 5, 6, 1, 1, 2, 3, 5, 2, 1, 4, 1, 1, 2, 3, 5, 2, 3, 4, 5, 6, 1, 2, 3, 6, 6, 1, 2, 3, 4, 5, 6, 5, 1, 2, 3, 4, 5, 6, 1, 3, 4, 5, 1, 2, 3, 4, 5, 6, 3, 3, 1, 2, 3, 4, 5, 1, 2, 3, 6, 1, 2, 3, 4, 5, 6, 6, 1, 2, 3, 4, 5, 6, 1, 2, 3, 4, 5, 6, 5, 1, 2, 3, 4, 5, 6, 1, 2, 1, 2, 3, 4, 5, 6, 1, 2, 3, 4, 5, 6, 2, 4, 5, 6, 6, 3, 6, 2, 4, 1, 2, 1, 2, 4, 6, 5, 3, 6, 1, 4, 5, 6, 4, 5, 5, 4, 5, 6, 3, 4, 6, 1, 2, 3, 4, 5, 6, 1, 2, 3, 4, 5, 6, 4, 3, 1, 2, 3, 4, 5, 6, 4, 2, 1, 2, 3, 4, 5, 6, 3, 6, 4, 1, 2, 3, 4, 5, 6, 1, 2, 3, 4, 5, 6, 4, 1, 3, 4, 6, 3, 3, 1, 2, 3, 4, 5, 6, 3, 1, 3, 4, 6, 1, 2, 3, 4, 5, 6, 2, 3, 4, 5, 1, 2, 3, 5, 6, 1, 2, 3, 5, 6, 3, 1, 4, 5, 1, 2, 5, 5, 6, 5, 3, 3, 1, 2, 3, 4, 5, 6, 6, 1, 2, 1, 3, 4, 5, 6, 6, 1, 3, 6, 4, 5, 4, 5, 4, 1, 3, 4, 6, 2, 5, 1, 2, 3, 4, 5, 6, 2, 3, 1, 2, 3, 4, 5, 6, 1, 2, 5, 1, 4, 1, 4, 6, 1, 3, 4, 6, 1, 3, 4, 5, 6, 6, 1, 2, 3, 4, 5, 6, 6, 5, 6, 3, 6, 1, 2, 3, 5, 6, 1, 2, 3, 4, 5, 6, 1, 3, 4, 5, 6, 3, 4, 3, 6, 1, 2, 3, 4, 5, 6, 2, 2, 3, 3, 5, 6, 1, 2, 3, 2, 3, 1, 3, 6, 1, 2, 3, 1, 3, 4, 5, 6, 1, 3, 4, 6, 4, 5, 1, 2, 3, 4, 5, 6, 4, 4, 1, 3, 4, 6, 1, 3, 3, 6, 1, 1, 1, 2, 4, 1, 2, 3, 4, 5, 6, 3, 4, 1, 2, 3, 4, 3, 1, 2, 3, 4, 5, 3, 4, 6, 1, 2, 3, 4, 5, 6, 6, 1, 2, 3, 4, 5, 1, 3, 5, 6, 1, 1, 2, 3, 4, 5, 6, 1, 2, 4, 5, 6, 1, 2, 4, 5, 6, 1, 1, 4, 1, 2, 1, 2, 1, 2, 1, 2, 4, 5, 6, 1, 2, 3, 4, 5, 6, 1, 2, 1, 3, 1, 5, 1, 2, 3, 4, 5, 6, 1, 3, 6, 1, 2, 3, 4, 5, 1, 2, 4, 5, 3, 3, 4, 2, 1, 2, 3, 4, 5, 6, 1, 2, 3, 4, 5, 6, 4, 4, 3, 1, 2, 3, 4, 5, 6, 1, 2, 3, 4, 5, 6, 6, 4, 1, 2, 3, 4, 6, 1, 2, 1, 2, 4, 5, 6, 1, 1, 3, 6, 3, 4, 6, 4, 2, 3, 6, 3, 2, 4, 5, 6, 3, 6, 2, 3, 4, 1, 1, 2, 3, 5, 6, 1, 2, 3, 4, 5, 6, 6, 1, 3, 4, 6, 2, 3, 4, 5], \"Freq\": [0.8804158478544069, 0.11912193269779767, 0.0003880193247485266, 0.9957857788886313, 0.9801268961974662, 0.017607069991571248, 0.1788168293287853, 0.24702811224903623, 0.5742248637868136, 0.9954203914184243, 0.9945047444677618, 0.2288308044941844, 0.7702110004926207, 0.20979349145273637, 0.7864509941369594, 0.003844383351228153, 0.997125110404646, 0.9906923883009265, 0.38869976251976224, 0.3122947671833969, 0.05524450406291104, 0.12298647948195619, 0.11006295796595388, 0.010793270716661283, 0.33119772113597534, 0.5151528276590394, 0.1205426204964368, 0.01865073118430211, 0.014331614488990042, 0.6972358609104568, 0.21122402177331193, 0.00982945292636922, 0.0646559570267842, 0.014634963245927507, 0.002402755159779143, 0.4950692079936467, 0.09897163621015358, 0.2789776184857634, 0.07533661860772885, 0.030176852831667298, 0.021524748173636813, 0.7891573668696011, 0.0013992151894851083, 0.001923920885542024, 0.15225210280584836, 0.020113718348848432, 0.03515528163581335, 0.049854007979166434, 0.9494418852921253, 0.9976210594214551, 0.9960949507890161, 0.967568501264136, 0.03127915413569405, 0.9990785562717699, 0.0005027003590686766, 0.011562108258579562, 0.940552371817494, 0.020108014362747065, 0.027145819389708538, 0.5813906425205687, 0.1839138688362856, 0.19262888851245547, 0.0002695366910155627, 0.03557884321405427, 0.0062891894570297965, 0.04158122175018301, 0.33075971846736485, 0.6274984373209436, 0.9977671861681883, 0.9972798634603474, 0.9968002134124466, 0.8240648115676746, 0.17551266487830883, 0.9904958302230669, 0.00798786959857312, 0.9929042572782242, 0.0843535990659777, 0.8178420783006, 0.022300376764568818, 0.027633075556096145, 0.047509498324516175, 0.1503292565967338, 0.8319285029959672, 0.007676387570897045, 0.009595484463621306, 0.0006396989642414204, 0.960863670715092, 0.03796725750545957, 0.9959082388485379, 0.002105514247037078, 0.9934108637372203, 0.9931608947967616, 0.026605453420329227, 0.0362801637549944, 0.9142601266258589, 0.019349420669330347, 0.40773098251704976, 0.591507538505574, 0.995585784228664, 0.9291052103295634, 0.06908731051168548, 0.9941195359121509, 0.9974182277948737, 0.01441793895002431, 0.06797028362154317, 0.35426935705774015, 0.5602399134866589, 0.9172925382722227, 0.07789729982744417, 0.004738999229046033, 0.9878265948927293, 0.2957581320925287, 0.7040930669397493, 0.995477899804656, 0.480289072590009, 0.1499399942810212, 0.022851817310209112, 0.15916090302022837, 0.03888818033491726, 0.14873726705416807, 0.9994514102311791, 0.9965148763222529, 0.9937409619710165, 0.9963275915105793, 0.9984380917605172, 0.16854809407047816, 0.04888403936787282, 0.0015276262302460256, 0.5255034232046327, 0.2556227891945016, 0.7652326290291896, 0.011188779954473791, 0.18914366113515219, 0.005860789499962462, 0.02850474893163561, 0.9990500738567455, 0.24363540707163364, 0.34476708547872686, 0.2845895578315309, 0.12704144725519148, 0.10754869507134601, 0.15364099295906572, 0.05569485994766133, 0.6625767821359709, 0.019205124119883215, 0.9967291497226357, 0.9990289758176388, 0.9968340983506402, 0.9944759518841552, 0.07811712768133287, 0.9220382283698305, 0.03360925267746933, 0.9634652434207875, 0.019966582906477928, 0.8454599949461746, 0.13415047890289858, 0.9958670026710303, 0.013088525876435069, 0.8891471912058223, 0.09772765987738184, 0.03466146490341155, 0.9618556510696704, 0.9940718520748039, 0.08701518411673712, 0.27111342489264373, 0.055373298983378165, 0.5860940087201715, 0.9973352070041569, 0.9970096576928431, 0.9965667945054181, 0.3808846344627406, 0.0435296725100275, 0.08577906053446595, 0.48970881573780933, 0.5379111931117958, 0.14200390863685522, 0.14490787404865185, 0.124967311554315, 0.014423028211923265, 0.03591237225921833, 0.9964942421190555, 0.9961286233528662, 0.0867757609142085, 0.06643769194994087, 0.09762273102848455, 0.7484409378850482, 0.996588261625857, 0.9941928058411476, 0.9982124535574713, 0.0011914166080768697, 0.0023828332161537394, 0.9948328677441862, 0.024103367445251243, 0.9748473055634946, 0.4944083409803552, 0.21833836304927012, 0.14248422996207338, 0.06196381973217358, 0.06825786797116844, 0.01454142179353986, 0.14218765825002702, 0.8531259495001621, 0.9983032996002229, 0.9940928826286498, 0.9957871364040809, 0.9962835066274338, 0.0033099119821509426, 0.9928700638790977, 0.9950525199783333, 0.004809921546723061, 0.996632320309372, 0.9802113105924444, 0.0019643513238325537, 0.017679161914492984, 0.9807182433602143, 0.015628975989804214, 0.6914706938124641, 0.1394577123130805, 0.10985503227607077, 0.03234050015603952, 0.013689100595149006, 0.013175759322830917, 0.9941172073249139, 0.39963409527538124, 0.11009274753715341, 0.31042545207197353, 0.12195285617113247, 0.05517528799285908, 0.002836112934212383, 0.9969001724310728, 0.008366704341633053, 0.9893627883981085, 0.012737943951351279, 0.9565037912560143, 0.03010786752137575, 0.9972278315854228, 0.9987757428075045, 0.9988029527110067, 0.018265910311660655, 0.9802705200591219, 0.2843368672955057, 0.0007582316461213486, 0.35257771544642713, 0.3616764951998833, 0.9967239221375865, 0.9957101173635965, 0.9949535133594534, 0.03467438522217842, 0.5359321645743717, 0.42947571871680634, 0.9955645490974881, 0.9995349420337519, 0.03543342365315266, 0.7242094483495236, 0.23995265842310398, 0.2273103847433297, 0.20007628170765202, 0.547108861974159, 0.00701075919730317, 0.018335831746792906, 0.7866274131023054, 0.2130084902531365, 0.9863332139926434, 0.05531561942107553, 0.9403655301582841, 0.12632323534610412, 0.00940704944066733, 0.017022279940255167, 0.8470824043953294, 0.02715437971287786, 0.04153022779616614, 0.16931554409206195, 0.011181215175890883, 0.7507387332383879, 0.9934684787083355, 0.9979833354248544, 0.9990004513587722, 0.998838260069198, 0.9879361048486358, 0.9946469182170199, 0.4975381639796677, 0.36971097022556537, 0.04051353681824009, 0.05857499042440131, 0.025645268380018973, 0.008082749956348393, 0.23806659046442094, 0.5989166499898384, 0.1436177681098082, 0.019167555124906702, 0.0002777906539841551, 0.9941766313962581, 0.006352567461311368, 0.9932874482506455, 0.015290346720279227, 0.9836789723379635, 0.08905899396892147, 0.8104368451171855, 0.100933526498111, 0.8464532573643682, 0.15170201235880884, 0.002198579889258099, 0.1950554358044191, 0.07617128332508337, 0.6876771933834629, 0.041289106849110614, 0.20326931905419823, 0.07740779301191851, 0.6960792379239695, 0.023045068148586426, 0.0015305586429165954, 0.13281847779087344, 0.7974210529595462, 0.06819489064550609, 0.9930100006202695, 0.9957485243053282, 0.9866316422884329, 0.012649123619082473, 0.2551169778900914, 0.7447273039615739, 0.00013391967343311884, 0.012400659304686366, 0.9579509312870218, 0.027901483435544324, 0.9927455047892765, 0.9953378361591106, 0.9982378249181129, 0.9961303395329093, 0.1197190686888774, 0.8765146100435667, 0.9969545013134138, 0.9971828562240382, 0.9959021125323072, 0.26023656506001897, 0.48997038652879576, 0.13629910162612963, 0.05715250904464328, 0.04302492253922584, 0.01332488272670054, 0.0028198640364498957, 0.9813126846845638, 0.016919184218699375, 0.9952026906182588, 0.9958890726305178, 0.07319261320198926, 0.9254799313762643, 0.005472493375588998, 0.07319459889850286, 0.920747010442849, 0.9890761243466409, 0.9947114626795414, 0.9750031003226265, 0.012273706901802333, 0.012778105815575033, 0.8178081580795373, 0.16476256766466324, 0.017428218268528823, 0.20019414796446028, 0.64000291318368, 0.10125649954959189, 0.05797127836808696, 0.25700848439652807, 0.0645361711481998, 0.6783115171738605, 0.9957326476359697, 0.9962237746329582, 0.9609134184371926, 0.038799768613872895, 0.9942618298979637, 0.5571762455193252, 0.10979063802519622, 0.16487868489857582, 0.07808690492663897, 0.06915718071042933, 0.020910972894793076, 0.9974077323403882, 0.0017437198117838954, 0.8750083569287669, 0.10104519109496816, 0.015049283780101641, 0.00890671897189689, 0.79665636469242, 0.1361265742120429, 0.05198082264215141, 0.015508090733017548, 0.37422686274004724, 0.3705032123645244, 0.07301014486293032, 0.08910163398572553, 0.0833831709090297, 0.009708088479041737, 0.6898493090482261, 0.08902335894683315, 0.13122863968784504, 0.04692704192546244, 0.034723105325651774, 0.008208600212967888, 0.3466513805191921, 0.48182250856099196, 0.13111775653598318, 0.015332318304610936, 0.024496462578631265, 0.0005287006311934805, 0.9917303713399682, 0.061164849591883626, 0.8584540293597702, 0.08048006525247846, 0.06829563821553669, 0.1076969679552694, 0.8221744139024224, 0.9848650979384751, 0.013308987809979394, 0.9962218550704979, 0.007600740344637841, 0.9804955044582815, 0.7385756436941973, 0.15455342610887401, 0.10692251090140774, 0.1586196393891197, 0.07849219268739945, 0.6737246539001785, 0.05396338247258711, 0.01417220145744712, 0.021258302186170683, 0.9915628869436692, 0.0017214633453883146, 0.00631203226642382, 0.5056730888985942, 0.13472889951176456, 0.3466718811196971, 0.013015585592520336, 0.99489041369887, 0.9969276139280766, 0.15021011899749526, 0.7268580998604758, 0.11879598353407678, 0.0032497381513881185, 0.000361082016820902, 0.35685676866472865, 0.12857671184506658, 0.5143068473802663, 0.9981368738250521, 0.30788872826880676, 0.42063671326865154, 0.021493763026726256, 0.03978231577753719, 0.19778032820206878, 0.012255215760852688, 0.9923087358959441, 0.9983339993951659, 0.994613513957884, 0.9953045992892521, 0.6141734265710918, 0.03860124791019208, 0.05876350686328347, 0.15354335664277294, 0.1349320406860732, 0.05261003298924853, 0.8496127715577151, 0.09736782224875846, 0.9949987323870929, 0.0853358592253166, 0.01610110551421068, 0.8968315771415348, 0.001610110551421068, 0.30258591766580245, 0.013104114544581994, 0.21514573515922802, 0.21514573515922802, 0.2539815655368074, 0.9868809788960928, 0.9882163812524957, 0.01133275666573963, 0.045231443619685785, 0.9498603160134015, 0.23251883884977279, 0.7674794479444299, 0.9336309414152295, 0.011865047706627222, 0.0541342801614867, 0.9973507652666287, 0.999676755351294, 0.9971097099211566, 0.9945918602902307, 0.9979717461784733, 0.9973139565540672, 0.37098934472184997, 0.6280454135265836, 0.996999367976202, 0.11541366128885013, 0.0833543109308362, 0.0131612069890794, 0.7879850851153949, 0.008425609188032522, 0.000962926764346574, 0.8625416491634437, 0.07920072636750572, 0.04862780159950199, 0.9317917802280141, 0.06727738485400823, 0.06400926855981297, 0.934923255934238, 0.9902040695437407, 0.492186157117216, 0.416316800341546, 0.0366050092484676, 0.05376034834069814, 0.0005214388781832991, 0.000625726653819959, 0.9930803299985057, 0.7676714355498896, 0.012773753594783065, 0.13770729485107597, 0.053587454104943595, 0.009658203937518903, 0.01900485290931139, 0.1665070205508781, 0.7588144371669788, 0.0743561885666135, 0.9955601866428067, 0.6685962508983525, 0.12154067819152752, 0.07522779879999787, 0.0461903585465785, 0.03491844081107393, 0.05341908839869556, 0.9960701287538738, 0.9972653780843073, 0.017855905918661704, 0.9166604009589889, 0.02832908150556905, 0.009271335765458962, 0.027642315893312834, 0.09746811351723382, 0.06237959265102965, 0.8369262014013145, 0.002599149693792902, 0.5395775899270354, 0.3172800494834919, 0.10533257993822624, 0.03453076751018373, 0.0002747806433171119, 0.0030225870764882313, 0.9896649181654023, 0.43787426118530065, 0.11327837615350586, 0.33958114107003884, 0.07975204061031578, 0.013461331695371772, 0.0160012056001589, 0.29260799847573854, 0.239642246852915, 0.013889620180810374, 0.11611722471157472, 0.2974230668050861, 0.04018730105647802, 0.9928696230156182, 0.24243325198136673, 0.21586705311336452, 0.46684420824825956, 0.059540325101150635, 0.0012014863809649231, 0.014017341111257436, 0.015558445637879522, 0.9844148876025978, 0.3945585591321502, 0.38319806905747034, 0.06572854971779056, 0.06566612944265496, 0.03994897608678629, 0.050934944510652516, 0.05862605073800874, 0.7205330751993978, 0.08983023903404565, 0.0728097726907528, 0.03498651415010199, 0.023166745856148616, 0.31912617516522, 0.6423489636188254, 0.038098503581983904, 0.9869177090680704, 0.9979776229872037, 0.10804317594507297, 0.8883550022150444, 0.9461265805272184, 0.0517780715711413, 0.9951920544881567, 0.9954488187455155, 0.9283413750509787, 0.06949448146568062, 0.0017482888419039148, 0.9978741683134659, 0.9946423380536428, 0.028330889961952897, 0.9689164366987891, 0.99303484492991, 0.9878999034037083, 0.010620149922226508, 0.0013557638198587031, 0.996704147411756, 0.9997517998956841, 0.9891358652434897, 0.9641263624319236, 0.03281175965386034, 0.003146333117493457, 0.9574628091654717, 0.03864199678246298, 0.0042935551980514425, 0.4035589831762004, 0.35500741399202, 0.002282338722333267, 0.00020748533839393338, 0.23072369629405393, 0.008091928197363402, 0.34701488222650695, 0.5423261646912826, 0.05426102538294132, 0.015908991735312638, 0.03948839020015101, 0.0011363565525223313, 0.9992452525898795, 0.9976496992767988, 0.15303013063043103, 0.019353810638554514, 0.1633821688789602, 0.6413762827893066, 0.02250443097506339, 0.0004500886195012678, 0.9991369411576547, 0.9946933710869567, 0.41224942750560234, 0.4209638715919806, 0.008292777437037347, 0.014196110527809697, 0.1106172176770914, 0.033592776397490275, 0.33158752167615374, 0.6683560983784974, 0.9911772215732877, 0.38767027976901386, 0.5209918598350524, 0.01691898224188306, 0.06496889180883095, 0.009249043625562739, 0.0003383796448376612, 0.12354593667290271, 0.5049629223744816, 0.17108486532556327, 0.0033166694408832942, 0.18435154308909643, 0.012713899523385962, 0.9958853450696868, 0.8439116937461442, 0.14944689182807613, 0.0008056436217146961, 0.0056395053520028725, 0.9950991819124244, 0.9979593474691919, 0.32160654278451645, 0.10751655682532221, 0.0009431276914501948, 0.0367819799665576, 0.43572499344999, 0.09808527991082026, 0.9951960400012606, 0.2576463219258565, 0.7349592290793358, 0.0030794381106676078, 0.0030794381106676078, 0.06549001112799535, 0.15996740423067718, 0.2347620071036336, 0.4058233476456105, 0.11344444550587172, 0.020398528056260846, 0.16417260688930368, 0.06172890019037818, 0.7473137065601103, 0.026267617102288587, 0.1247989976064429, 0.2977230988650435, 0.5297839800351939, 0.0012235195843768912, 0.0460859043448629, 0.022096664266901805, 0.1862433131067438, 0.11153554344245674, 0.11363998765835215, 0.5660954940758653, 0.9969516434808454, 0.00043628355225909613, 0.8590423143981603, 0.14048330382742896, 0.001869200785277886, 0.9883399152156822, 0.009813304122708902, 0.9909591931173, 0.008861036004029509, 0.9881723351239002, 0.9963111064810976, 0.9980641988718176, 0.1394171608333046, 0.5965757579843732, 0.16659038376426985, 0.07611590286912422, 0.004786192675340468, 0.01621129777131449, 0.991434579333482, 0.11070202808952946, 0.8891147086739183, 0.761984848820783, 0.23375880167109853, 0.0028163711044710666, 0.0012517204908760297, 0.9971035729005083, 0.9923354585741679, 0.24645302140715092, 0.23413037033679338, 0.5175513449550169, 0.9901014415515188, 0.008160176716083946, 0.9883068338778807, 0.011359848665262996, 0.9883713982591145, 0.20161193236214053, 0.7718095560471372, 0.01776316584688463, 0.008881582923442315, 0.06857673380693693, 0.9284234730785308, 0.20432558673977283, 0.2636870103187841, 0.28432338503938465, 0.014012353205346016, 0.10598434424407169, 0.1278945692560673, 0.9876328453389486, 0.009843516730952975, 0.6311705667839489, 0.30615749140617426, 0.031008946152347484, 0.03083022023792473, 0.0007149036576910082, 0.0002680888716341281, 0.012679841754358904, 0.9871329678422167, 0.9994223382309444, 0.9498881527292387, 0.04853443116134796, 0.9337461427613425, 0.06584693661000653, 0.0009145407862500906, 0.13340013584299024, 0.013800014052723129, 0.08280008431633877, 0.7705007846103746, 0.2176165215000696, 0.3493478708912634, 0.16382367348881643, 0.008863594274581487, 0.26040628696356644, 0.9824668181011833, 0.16962420245850418, 0.12544065271631896, 0.5972397068598829, 0.01828284816918009, 0.05281711693318693, 0.036057839444771846, 0.9952495643222075, 0.9966009961500607, 0.9876776063892594, 0.03830443467570641, 0.949949979957519, 0.08980008448026572, 0.1719576085792322, 0.159538447959621, 0.5684154283591287, 0.009553200476624012, 0.8081777674631189, 0.010565179690424756, 0.002105238757501612, 0.15859465306512144, 0.002923942718752239, 0.01769959992418022, 0.3750312602008699, 0.045582173285101536, 0.23922781979284324, 0.34013732065158525, 0.9863045938968518, 0.991701292581863, 0.007541454696440023, 0.9718359872231747, 0.028013010718184635, 0.48670168140956577, 0.2878355573561741, 0.1567828959615871, 0.06586940049152018, 0.0011435659807555586, 0.0014866357749822262, 0.9954834561792303, 0.9534014292616038, 0.046178878511157394, 0.06480553756352878, 0.8748747571076385, 0.057327975536967765, 0.07708907295284774, 0.7906111900512989, 0.13206732653162287, 0.9312243945092301, 0.06741186694258736, 0.9979368756924676, 0.9804706506657906, 0.0162868878848138, 0.3174765116574772, 0.11205053352616844, 0.569817957078198, 0.17755255198246991, 0.1139843543591165, 0.030688095404377516, 0.1117923475445181, 0.5633457513517873, 0.05095048971791817, 0.8517876742585294, 0.07969179161007714, 0.01698349657263939, 0.9734801387556649, 0.02525538095828376, 0.6029715243264208, 0.09191828121479885, 0.00713025452930986, 0.1745362304348457, 0.11671916653413748, 0.00666523792957226, 0.9996512891026215, 0.9972595664941567, 0.38514722473375207, 0.5570008914662173, 0.027220320735402308, 0.03006423484208613, 0.9232070458547506, 0.07673046848811678, 0.08979537188589698, 0.9035659296018383, 0.9937881676790099, 0.9942646240154526, 0.041617440896159236, 0.8582441144807949, 0.09988185815078215, 0.1642863442364071, 0.826821693105802, 0.008839553954977283, 0.9962811347402245, 0.000419840343337642, 0.003358722746701136, 0.9985531304587132, 0.9931565858735046, 0.8585043575980328, 0.06886710686374431, 0.0531093790220401, 0.019843064689553443, 0.9941662248648873, 0.43124883202759484, 0.25277652066910133, 0.0003555225325866404, 0.043729271508156774, 0.2716192148961933, 0.9080075690525181, 0.08807463718292323, 0.0020970151710219815, 0.6450092569281947, 0.11101880527063049, 0.1909323416771474, 0.034305810998041676, 0.009201558635043247, 0.009501609460099007, 0.9944380557069518, 0.4928957358432543, 0.37541665789213813, 0.10134184196881996, 0.018073704300171713, 0.01213520145868672, 0.9899586910016229, 0.34602585319500206, 0.12499612318057345, 0.528947009069012, 0.9919397775975378, 0.34463289396993074, 0.20078530382054033, 0.1696856615348132, 0.07037351079156982, 0.14065306495991992, 0.07375594922747972, 0.858993626859524, 0.10213643734000438, 0.0388467646293179, 0.9961602901621261, 0.9871939116371372, 0.7931087669272286, 0.019420864356596325, 0.1770002827436627, 0.0030975049480140974, 0.007375011780985946, 0.9992687147553417, 0.9967587358679619, 0.0034252877521235804, 0.9975099466252442, 0.0015489284885485156, 0.9988992166774462, 0.9966290589151664, 0.028952619595217114, 0.969223408354173, 0.39120511104068817, 0.5878794613858013, 0.009378204716728827, 0.0053589741238450435, 0.006028845889325674, 0.43514018436028834, 0.36022905329156685, 0.13531354226270684, 0.062345001302736625, 0.0023068257541421534, 0.004674357449182785, 0.9931370596676724, 0.9984460860453969, 0.9921689431524713, 0.9961598982379585, 0.19827781911070194, 0.7986189936403273, 0.5050650206351069, 0.3577381498821036, 0.06558996740250865, 0.01408680963738089, 0.05534501493895891, 0.002171484489556738, 0.9351123584642309, 0.0025205184864264983, 0.061752702917449206, 0.23480405456276326, 0.198260798684238, 0.544603596935933, 0.006272349889597625, 0.016089941021141734, 0.4227544322280824, 0.5698953767249703, 0.0006788509550029424, 0.006618796811278689, 0.997449460094986, 0.9945967054335062, 0.9891595291518795, 0.9983400023081653, 0.5135695147731212, 0.2748865534061951, 0.14320977682015562, 0.06257906213989994, 0.002206313088265703, 0.0036103305080711504, 0.33484173608901496, 0.04827378564368719, 0.5042612003544394, 0.08763075737866784, 0.024905583676042436, 0.0003074763416795362, 0.9949783253494214, 0.9983352934381678, 0.9949979621271322, 0.44180770822827686, 0.21876872392567465, 0.012153817995870814, 0.23305767211000925, 0.07505803816368868, 0.01905193091244614, 0.21830824880788002, 0.21556356096019874, 0.317117011324406, 0.04328161605958936, 0.11612140894036171, 0.08973017963573406, 0.990705646373463, 0.992218736546755, 0.341659086327791, 0.0007836217576325482, 0.5406990127664583, 0.012929759000937046, 0.10382988288631265, 0.9806914986663533, 0.01707671763846884, 0.43518772582512427, 0.4267992954388063, 0.08954396773828614, 0.04835980650425498, 5.053271317059037e-05, 0.9945503330893624, 0.011049232378204682, 0.8585253557865038, 0.1292760188249948, 0.7516400621478975, 0.22797204930627854, 0.02003101688465209, 0.9992613613775965, 0.4939567767305019, 0.09765907620173248, 0.4076204919724486, 0.9945994606991013, 0.008158477693168202, 0.7694221462533155, 0.03787864643256666, 0.1843427459718244, 0.9911426294859287, 0.005647536350347171, 0.9031481808248891, 0.06181976852705123, 0.03380768591323115, 0.9936138274342275, 0.44076996279822034, 0.2151344009862703, 0.04600066025408371, 0.2819515216381616, 0.01607699843223532, 0.4755630570591404, 0.29318957279475016, 0.03104807975997818, 0.11435045838044504, 0.07797363638495396, 0.00782998859095772, 0.995599390527618, 0.2836280981430386, 0.15418708690997399, 0.2750621488702622, 0.2864834145672973, 0.10071855164399175, 0.0033572850547997253, 0.8947164671041268, 0.0016786425273998627], \"Term\": [\"**\", \"**\", \"**\", \"---\", \".**\", \".**\", \"...\", \"...\", \"...\", \"000\", \"37m\", \"](\", \"](\", \"advice\", \"advice\", \"advice\", \"afford\", \"allergic\", \"also\", \"also\", \"also\", \"also\", \"also\", \"also\", \"always\", \"always\", \"always\", \"always\", \"always\", \"anything\", \"anything\", \"anything\", \"anything\", \"anything\", \"anything\", \"around\", \"around\", \"around\", \"around\", \"around\", \"around\", \"ask\", \"ask\", \"ask\", \"ask\", \"ask\", \"ask\", \"ass\", \"ass\", \"attract\", \"attraction\", \"attractive\", \"attractive\", \"aunt\", \"baby\", \"baby\", \"baby\", \"baby\", \"baby\", \"back\", \"back\", \"back\", \"back\", \"back\", \"back\", \"bag\", \"bag\", \"bag\", \"bake\", \"ball\", \"bank\", \"bathroom\", \"bathroom\", \"bc\", \"bc\", \"bean\", \"become\", \"become\", \"become\", \"become\", \"become\", \"better\", \"better\", \"better\", \"better\", \"better\", \"bf\", \"bf\", \"bill\", \"bill\", \"bio\", \"biological\", \"birth\", \"birth\", \"birth\", \"birth\", \"birthday\", \"birthday\", \"blindside\", \"blood\", \"blood\", \"bob\", \"boob\", \"box\", \"box\", \"box\", \"box\", \"boyfriend\", \"boyfriend\", \"boyfriend\", \"bread\", \"break\", \"break\", \"bride\", \"bring\", \"bring\", \"bring\", \"bring\", \"bring\", \"bring\", \"brother\", \"brothers\", \"budget\", \"bully\", \"butt\", \"buy\", \"buy\", \"buy\", \"buy\", \"buy\", \"call\", \"call\", \"call\", \"call\", \"call\", \"cant\", \"car\", \"car\", \"car\", \"car\", \"card\", \"card\", \"card\", \"card\", \"card\", \"casual\", \"cat\", \"ceremony\", \"chair\", \"cheat\", \"cheat\", \"chicken\", \"chicken\", \"child\", \"child\", \"child\", \"childcare\", \"children\", \"children\", \"children\", \"chocolate\", \"chocolate\", \"church\", \"clean\", \"clean\", \"clean\", \"clean\", \"closure\", \"club\", \"coconut\", \"college\", \"college\", \"college\", \"college\", \"come\", \"come\", \"come\", \"come\", \"come\", \"come\", \"commit\", \"commitment\", \"company\", \"company\", \"company\", \"company\", \"concert\", \"confidence\", \"connection\", \"cook\", \"cook\", \"cook\", \"cost\", \"cost\", \"could\", \"could\", \"could\", \"could\", \"could\", \"could\", \"counter\", \"counter\", \"cousin\", \"cousins\", \"crack\", \"cuddle\", \"cuddle\", \"cum\", \"dad\", \"dad\", \"dan\", \"daughter\", \"daughter\", \"daughter\", \"daughters\", \"daughters\", \"day\", \"day\", \"day\", \"day\", \"day\", \"day\", \"debt\", \"decide\", \"decide\", \"decide\", \"decide\", \"decide\", \"decide\", \"deeply\", \"depression\", \"depression\", \"deserve\", \"deserve\", \"deserve\", \"desire\", \"dick\", \"didnt\", \"diet\", \"diet\", \"dinner\", \"dinner\", \"dinner\", \"dinner\", \"dish\", \"district\", \"doesnt\", \"dog\", \"dog\", \"dog\", \"dollars\", \"dont\", \"door\", \"door\", \"door\", \"dr\", \"dr\", \"dr\", \"dr\", \"dr\", \"drink\", \"drink\", \"driveway\", \"earn\", \"earn\", \"eat\", \"eat\", \"eat\", \"eat\", \"email\", \"email\", \"email\", \"email\", \"email\", \"embarrassment\", \"emotional\", \"emotionally\", \"emotions\", \"engineer\", \"esteem\", \"even\", \"even\", \"even\", \"even\", \"even\", \"even\", \"ever\", \"ever\", \"ever\", \"ever\", \"ever\", \"everytime\", \"ex\", \"ex\", \"expense\", \"expense\", \"expensive\", \"expensive\", \"expensive\", \"experience\", \"experience\", \"experience\", \"eye\", \"eye\", \"eye\", \"eye\", \"face\", \"face\", \"face\", \"face\", \"family\", \"family\", \"family\", \"family\", \"farm\", \"fart\", \"father\", \"father\", \"feel\", \"feel\", \"feel\", \"feet\", \"feet\", \"feet\", \"fence\", \"fiancee\", \"fianc\\u00e9\", \"fil\", \"file\", \"file\", \"finance\", \"financial\", \"financially\", \"find\", \"find\", \"find\", \"find\", \"find\", \"find\", \"finger\", \"finger\", \"finger\", \"flaw\", \"flirty\", \"focus\", \"focus\", \"food\", \"food\", \"food\", \"foster\", \"fridge\", \"friend\", \"friend\", \"friend\", \"friends\", \"friends\", \"friends\", \"front\", \"front\", \"front\", \"front\", \"fuck\", \"fuck\", \"fuck\", \"fund\", \"funeral\", \"future\", \"future\", \"garden\", \"get\", \"get\", \"get\", \"get\", \"get\", \"get\", \"gf\", \"gf\", \"girl\", \"girl\", \"girl\", \"girl\", \"girlfriend\", \"girlfriend\", \"girlfriend\", \"girlfriend\", \"give\", \"give\", \"give\", \"give\", \"give\", \"give\", \"go\", \"go\", \"go\", \"go\", \"go\", \"go\", \"good\", \"good\", \"good\", \"good\", \"good\", \"good\", \"goodbye\", \"grab\", \"grab\", \"grab\", \"graduate\", \"graduate\", \"graduate\", \"grandparents\", \"grandparents\", \"grieve\", \"grocery\", \"grocery\", \"guy\", \"guy\", \"guy\", \"hand\", \"hand\", \"hand\", \"hand\", \"hand\", \"hand\", \"hang\", \"hang\", \"hang\", \"happen\", \"happen\", \"happen\", \"happen\", \"happier\", \"happiness\", \"happy\", \"happy\", \"happy\", \"happy\", \"happy\", \"head\", \"head\", \"head\", \"heal\", \"help\", \"help\", \"help\", \"help\", \"help\", \"help\", \"hes\", \"hire\", \"hobbies\", \"holy\", \"home\", \"home\", \"home\", \"home\", \"home\", \"hope\", \"hope\", \"hope\", \"horny\", \"hot\", \"hot\", \"hot\", \"hot\", \"house\", \"house\", \"house\", \"house\", \"house\", \"hubby\", \"hug\", \"hug\", \"hungry\", \"hungry\", \"hurt\", \"hurt\", \"husband\", \"husband\", \"husband\", \"idk\", \"im\", \"improve\", \"inch\", \"income\", \"intimacy\", \"invite\", \"invite\", \"ive\", \"job\", \"job\", \"job\", \"job\", \"kid\", \"kid\", \"kid\", \"kid\", \"kid\", \"kiss\", \"kiss\", \"kitchen\", \"kitchen\", \"kitten\", \"know\", \"know\", \"know\", \"know\", \"know\", \"know\", \"landlord\", \"later\", \"later\", \"later\", \"later\", \"later\", \"later\", \"laugh\", \"laugh\", \"laugh\", \"lawyer\", \"leave\", \"leave\", \"leave\", \"leave\", \"leave\", \"leave\", \"leg\", \"legs\", \"life\", \"life\", \"life\", \"life\", \"life\", \"light\", \"light\", \"light\", \"light\", \"like\", \"like\", \"like\", \"like\", \"like\", \"like\", \"litter\", \"little\", \"little\", \"little\", \"little\", \"little\", \"little\", \"live\", \"live\", \"live\", \"live\", \"live\", \"live\", \"loan\", \"look\", \"look\", \"look\", \"look\", \"look\", \"look\", \"love\", \"love\", \"make\", \"make\", \"make\", \"make\", \"make\", \"make\", \"many\", \"many\", \"many\", \"many\", \"many\", \"many\", \"marry\", \"marry\", \"marry\", \"mattress\", \"meal\", \"meat\", \"meat\", \"media\", \"media\", \"medication\", \"memories\", \"message\", \"message\", \"message\", \"mil\", \"military\", \"milk\", \"milk\", \"misunderstand\", \"mom\", \"mom\", \"mom\", \"moms\", \"money\", \"mortgage\", \"mother\", \"mother\", \"mother\", \"mouth\", \"mouth\", \"mouth\", \"move\", \"move\", \"move\", \"move\", \"move\", \"move\", \"much\", \"much\", \"much\", \"much\", \"much\", \"much\", \"mum\", \"naked\", \"name\", \"name\", \"name\", \"name\", \"name\", \"name\", \"nan\", \"nc\", \"need\", \"need\", \"need\", \"need\", \"need\", \"need\", \"neighbor\", \"neighbor\", \"nephew\", \"never\", \"never\", \"never\", \"never\", \"never\", \"never\", \"new\", \"new\", \"new\", \"new\", \"new\", \"new\", \"niece\", \"night\", \"night\", \"night\", \"night\", \"nose\", \"obligatory\", \"offer\", \"offer\", \"offer\", \"offer\", \"offer\", \"offer\", \"og\", \"oh\", \"oh\", \"oh\", \"oh\", \"old\", \"old\", \"old\", \"old\", \"old\", \"old\", \"older\", \"older\", \"older\", \"older\", \"open\", \"open\", \"open\", \"open\", \"open\", \"order\", \"order\", \"order\", \"order\", \"order\", \"pant\", \"parent\", \"parent\", \"parent\", \"partner\", \"partner\", \"partner\", \"pay\", \"pay\", \"paycheck\", \"pee\", \"penis\", \"people\", \"people\", \"people\", \"people\", \"people\", \"people\", \"pepper\", \"person\", \"person\", \"phone\", \"phone\", \"phone\", \"phone\", \"pizza\", \"plate\", \"police\", \"police\", \"police\", \"pregnancy\", \"pregnancy\", \"pregnant\", \"pregnant\", \"proposal\", \"pull\", \"pull\", \"pull\", \"pull\", \"puppy\", \"puppy\", \"put\", \"put\", \"put\", \"put\", \"put\", \"put\", \"reality\", \"reality\", \"really\", \"really\", \"really\", \"really\", \"really\", \"really\", \"relationship\", \"relationship\", \"rent\", \"reply\", \"reply\", \"respond\", \"respond\", \"respond\", \"restaurant\", \"restaurant\", \"restaurant\", \"restaurant\", \"room\", \"room\", \"room\", \"room\", \"room\", \"ross\", \"run\", \"run\", \"run\", \"run\", \"run\", \"run\", \"salad\", \"salary\", \"sandwich\", \"sauce\", \"sauce\", \"save\", \"save\", \"save\", \"save\", \"save\", \"say\", \"say\", \"say\", \"say\", \"say\", \"say\", \"school\", \"school\", \"school\", \"school\", \"scold\", \"screen\", \"screen\", \"seat\", \"seat\", \"see\", \"see\", \"see\", \"see\", \"see\", \"see\", \"seek\", \"self\", \"self\", \"sell\", \"sell\", \"sell\", \"sex\", \"sex\", \"sex\", \"sexual\", \"sexual\", \"shes\", \"shirt\", \"shirt\", \"shit\", \"shit\", \"shit\", \"shop\", \"shop\", \"shop\", \"shop\", \"shop\", \"shower\", \"shower\", \"shower\", \"shower\", \"siblings\", \"siblings\", \"since\", \"since\", \"since\", \"since\", \"since\", \"since\", \"sister\", \"sisters\", \"sit\", \"sit\", \"sit\", \"sit\", \"sleep\", \"sleep\", \"snack\", \"snack\", \"snapchat\", \"sob\", \"social\", \"social\", \"social\", \"someone\", \"someone\", \"someone\", \"son\", \"son\", \"son\", \"song\", \"sons\", \"sorry\", \"sorry\", \"sorry\", \"sorry\", \"speed\", \"spend\", \"spend\", \"spend\", \"spend\", \"spend\", \"star\", \"star\", \"star\", \"start\", \"start\", \"start\", \"start\", \"start\", \"start\", \"steak\", \"still\", \"still\", \"still\", \"still\", \"still\", \"stone\", \"store\", \"store\", \"store\", \"suspicious\", \"take\", \"take\", \"take\", \"take\", \"take\", \"take\", \"talk\", \"talk\", \"talk\", \"tax\", \"taxi\", \"tell\", \"tell\", \"tell\", \"tell\", \"tell\", \"text\", \"texted\", \"texted\", \"texting\", \"texting\", \"texts\", \"therapist\", \"therapy\", \"therapy\", \"things\", \"things\", \"things\", \"things\", \"things\", \"think\", \"think\", \"think\", \"think\", \"think\", \"think\", \"tho\", \"thoughts\", \"threesome\", \"throat\", \"ticket\", \"ticket\", \"time\", \"time\", \"time\", \"time\", \"time\", \"time\", \"tire\", \"tire\", \"tire\", \"tl\", \"tl\", \"tl\", \"tl\", \"tl\", \"together\", \"together\", \"together\", \"together\", \"toilet\", \"towel\", \"trans\", \"truly\", \"try\", \"try\", \"try\", \"try\", \"try\", \"try\", \"turn\", \"turn\", \"turn\", \"turn\", \"turn\", \"turn\", \"twin\", \"uncle\", \"underwear\", \"us\", \"us\", \"us\", \"us\", \"us\", \"us\", \"use\", \"use\", \"use\", \"use\", \"use\", \"use\", \"vegan\", \"venue\", \"walk\", \"walk\", \"walk\", \"walk\", \"walk\", \"wanna\", \"wanna\", \"want\", \"want\", \"want\", \"want\", \"want\", \"wasnt\", \"water\", \"water\", \"water\", \"wear\", \"wear\", \"wear\", \"wed\", \"weight\", \"weight\", \"weight\", \"wet\", \"wife\", \"wife\", \"wife\", \"wife\", \"window\", \"window\", \"women\", \"women\", \"women\", \"wont\", \"work\", \"work\", \"work\", \"work\", \"work\", \"would\", \"would\", \"would\", \"would\", \"would\", \"would\", \"yard\", \"yell\", \"yell\", \"yell\", \"yell\", \"younger\", \"younger\", \"younger\", \"younger\"]}, \"R\": 30, \"lambda.step\": 0.01, \"plot.opts\": {\"xlab\": \"PC1\", \"ylab\": \"PC2\"}, \"topic.order\": [2, 1, 5, 6, 4, 3]};\n",
       "\n",
       "function LDAvis_load_lib(url, callback){\n",
       "  var s = document.createElement('script');\n",
       "  s.src = url;\n",
       "  s.async = true;\n",
       "  s.onreadystatechange = s.onload = callback;\n",
       "  s.onerror = function(){console.warn(\"failed to load library \" + url);};\n",
       "  document.getElementsByTagName(\"head\")[0].appendChild(s);\n",
       "}\n",
       "\n",
       "if(typeof(LDAvis) !== \"undefined\"){\n",
       "   // already loaded: just create the visualization\n",
       "   !function(LDAvis){\n",
       "       new LDAvis(\"#\" + \"ldavis_el367563073889926358751982\", ldavis_el367563073889926358751982_data);\n",
       "   }(LDAvis);\n",
       "}else if(typeof define === \"function\" && define.amd){\n",
       "   // require.js is available: use it to load d3/LDAvis\n",
       "   require.config({paths: {d3: \"https://d3js.org/d3.v5\"}});\n",
       "   require([\"d3\"], function(d3){\n",
       "      window.d3 = d3;\n",
       "      LDAvis_load_lib(\"https://cdn.jsdelivr.net/gh/bmabey/pyLDAvis@3.4.0/pyLDAvis/js/ldavis.v3.0.0.js\", function(){\n",
       "        new LDAvis(\"#\" + \"ldavis_el367563073889926358751982\", ldavis_el367563073889926358751982_data);\n",
       "      });\n",
       "    });\n",
       "}else{\n",
       "    // require.js not available: dynamically load d3 & LDAvis\n",
       "    LDAvis_load_lib(\"https://d3js.org/d3.v5.js\", function(){\n",
       "         LDAvis_load_lib(\"https://cdn.jsdelivr.net/gh/bmabey/pyLDAvis@3.4.0/pyLDAvis/js/ldavis.v3.0.0.js\", function(){\n",
       "                 new LDAvis(\"#\" + \"ldavis_el367563073889926358751982\", ldavis_el367563073889926358751982_data);\n",
       "            })\n",
       "         });\n",
       "}\n",
       "</script>"
      ],
      "text/plain": [
       "PreparedData(topic_coordinates=              x         y  topics  cluster       Freq\n",
       "topic                                                \n",
       "1      0.121570  0.026621       1        1  34.839396\n",
       "0      0.179601  0.009582       2        1  27.586312\n",
       "4      0.030112  0.210468       3        1  17.156000\n",
       "5      0.026829 -0.130773       4        1  10.145982\n",
       "3     -0.064446 -0.182452       5        1   6.438935\n",
       "2     -0.293666  0.066554       6        1   3.833375, topic_info=      Term          Freq         Total Category  logprob  loglift\n",
       "347    say  25650.000000  25650.000000  Default  30.0000  30.0000\n",
       "107   tell  20338.000000  20338.000000  Default  29.0000  29.0000\n",
       "608   work  10760.000000  10760.000000  Default  28.0000  28.0000\n",
       "567   feel  14934.000000  14934.000000  Default  27.0000  27.0000\n",
       "79    love   8741.000000   8741.000000  Default  26.0000  26.0000\n",
       "..     ...           ...           ...      ...      ...      ...\n",
       "284  leave    436.161778   8161.876458   Topic6  -5.2075   0.3322\n",
       "822   yell    300.630791   1050.671643   Topic6  -5.5796   2.0101\n",
       "347    say    453.691015  25650.297292   Topic6  -5.1681  -0.7735\n",
       "121    ask    402.341160  11434.981638   Topic6  -5.2882  -0.0857\n",
       "9     come    370.839383  10330.701557   Topic6  -5.3698  -0.0657\n",
       "\n",
       "[492 rows x 6 columns], token_table=      Topic      Freq     Term\n",
       "term                          \n",
       "113       2  0.880416       **\n",
       "113       3  0.119122       **\n",
       "113       4  0.000388       **\n",
       "2035      2  0.995786      ---\n",
       "1914      2  0.980127      .**\n",
       "...     ...       ...      ...\n",
       "822       6  0.286483     yell\n",
       "2085      2  0.100719  younger\n",
       "2085      3  0.003357  younger\n",
       "2085      4  0.894716  younger\n",
       "2085      5  0.001679  younger\n",
       "\n",
       "[1033 rows x 3 columns], R=30, lambda_step=0.01, plot_opts={'xlab': 'PC1', 'ylab': 'PC2'}, topic_order=[2, 1, 5, 6, 4, 3])"
      ]
     },
     "execution_count": 142,
     "metadata": {},
     "output_type": "execute_result"
    }
   ],
   "source": [
    "vis = pyLDAvis.gensim_models.prepare(lda_model, corpus, dictionary)\n",
    "\n",
    "vis"
   ]
  },
  {
   "cell_type": "code",
   "execution_count": null,
   "id": "c5b6661a",
   "metadata": {},
   "outputs": [],
   "source": []
  },
  {
   "cell_type": "code",
   "execution_count": 133,
   "id": "1b146f19",
   "metadata": {},
   "outputs": [],
   "source": [
    "#separating out different categories:\n",
    "\n",
    "#social labels\n",
    "relationships = ['family','mom','dad','grandma','grandpa','grandmother','grandfather','granny',\n",
    "                'aunt','uncle','cousin','sister','brother','girlfriend','boyfriend', 'niece','nephew',\n",
    "                'fiancee','husband','wife','partner','employer','colleague','boss','manager','coworker',\n",
    "                'teammate','supervisor','classmate','mother','father','daughter','son','baby','child',\n",
    "                'parent','kid','friend','buddy','neighbor', 'stepson','stepdaughter','stepchild',\"job\",\n",
    "                'roommate', \"acquaintance\", 'landlord', 'worker','hostess','waitress','stylist','stranger']\n",
    "\n",
    "#emotion words\n",
    "#states = pd.read_csv(\"/Users/f004p74/Documents/dartmouth/projects/c-tom-reddit/mental_states.csv\")\n",
    "#traits = pd.read_csv(\"/Users/f004p74/Documents/dartmouth/projects/c-tom-reddit/mental_traits.csv\")\n",
    "\n",
    "#state_list = list(states[\"States\"])\n",
    "#trait_list = list(traits[\"Traits\"])"
   ]
  },
  {
   "cell_type": "markdown",
   "id": "eb50a201",
   "metadata": {},
   "source": [
    "### word frequencies"
   ]
  },
  {
   "cell_type": "code",
   "execution_count": 134,
   "id": "27920eed",
   "metadata": {},
   "outputs": [],
   "source": [
    "relationships_count = []\n",
    "none = []\n",
    "\n",
    "for word in all_words:\n",
    "    if word in relationships:\n",
    "        relationships_count.append(word)\n",
    "    \n",
    "for word in relationships:\n",
    "    if word not in relationships_count:\n",
    "        none.append(word)\n",
    "    \n",
    "df = pd.DataFrame(relationships_count)\n",
    "df.rename(columns={0:\"type\"}, inplace=True)"
   ]
  },
  {
   "cell_type": "code",
   "execution_count": 135,
   "id": "4f249e70",
   "metadata": {},
   "outputs": [
    {
     "data": {
      "text/plain": [
       "<AxesSubplot:xlabel='type'>"
      ]
     },
     "execution_count": 135,
     "metadata": {},
     "output_type": "execute_result"
    },
    {
     "data": {
      "image/png": "[encoded data removed]",
      "text/plain": [
       "<Figure size 1440x576 with 1 Axes>"
      ]
     },
     "metadata": {
      "needs_background": "light"
     },
     "output_type": "display_data"
    }
   ],
   "source": [
    "df['type'].value_counts().plot(kind='bar', figsize=(20,8))"
   ]
  },
  {
   "cell_type": "code",
   "execution_count": 136,
   "id": "6a31e526",
   "metadata": {
    "scrolled": true
   },
   "outputs": [
    {
     "data": {
      "text/plain": [
       "type\n",
       "family          5881\n",
       "friend          5830\n",
       "wife            5185\n",
       "mom             4705\n",
       "parent          4425\n",
       "kid             4225\n",
       "husband         3984\n",
       "sister          3813\n",
       "dad             3542\n",
       "boyfriend       3517\n",
       "girlfriend      3227\n",
       "job             3102\n",
       "daughter        2565\n",
       "brother         2559\n",
       "son             2427\n",
       "mother          2415\n",
       "baby            1909\n",
       "partner         1855\n",
       "child           1589\n",
       "father          1581\n",
       "cousin           629\n",
       "boss             532\n",
       "roommate         492\n",
       "aunt             468\n",
       "neighbor         393\n",
       "coworker         360\n",
       "uncle            344\n",
       "grandma          330\n",
       "manager          300\n",
       "grandmother      248\n",
       "niece            215\n",
       "worker           205\n",
       "nephew           202\n",
       "fiancee          186\n",
       "stranger         180\n",
       "buddy            134\n",
       "grandfather      121\n",
       "grandpa          114\n",
       "colleague        100\n",
       "landlord          89\n",
       "supervisor        83\n",
       "stepson           78\n",
       "stepdaughter      75\n",
       "waitress          63\n",
       "classmate         43\n",
       "employer          33\n",
       "acquaintance      27\n",
       "granny            25\n",
       "teammate           9\n",
       "stylist            7\n",
       "stepchild          1\n",
       "Name: count, dtype: int64"
      ]
     },
     "execution_count": 136,
     "metadata": {},
     "output_type": "execute_result"
    }
   ],
   "source": [
    "df['type'].value_counts()"
   ]
  },
  {
   "cell_type": "code",
   "execution_count": null,
   "id": "a3198e1d",
   "metadata": {},
   "outputs": [],
   "source": []
  }
 ],
 "metadata": {
  "kernelspec": {
   "display_name": "reddit-praw-env",
   "language": "python",
   "name": "reddit-praw-env"
  },
  "language_info": {
   "codemirror_mode": {
    "name": "ipython",
    "version": 3
   },
   "file_extension": ".py",
   "mimetype": "text/x-python",
   "name": "python",
   "nbconvert_exporter": "python",
   "pygments_lexer": "ipython3",
   "version": "3.9.13"
  }
 },
 "nbformat": 4,
 "nbformat_minor": 5
}
